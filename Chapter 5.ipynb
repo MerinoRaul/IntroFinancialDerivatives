{
 "cells": [
  {
   "cell_type": "markdown",
   "id": "e45353a7",
   "metadata": {},
   "source": [
    "## Binomial model"
   ]
  },
  {
   "cell_type": "markdown",
   "id": "e47bc6f4",
   "metadata": {},
   "source": [
    "We load all the packages we need to use in the notebook"
   ]
  },
  {
   "cell_type": "code",
   "execution_count": 1,
   "id": "c7718eb0",
   "metadata": {},
   "outputs": [],
   "source": [
    "\n",
    "#We load the package with the Binomial distribution\n",
    "#We will obtain the Binomial coefficients\n",
    "import scipy.special\n",
    "\n",
    "#The numerical package\n",
    "import numpy as np\n",
    "\n",
    "#Package to do Plots\n",
    "import matplotlib.pyplot as plt "
   ]
  },
  {
   "cell_type": "markdown",
   "id": "fcd1c805",
   "metadata": {},
   "source": [
    "We know that the number of times a scenario is reached is given by the coefficient of the Binomial.\n",
    "We will compare how many times we reach each scenario with 5 time steps and 30 time steps"
   ]
  },
  {
   "cell_type": "code",
   "execution_count": 4,
   "id": "579af03b",
   "metadata": {},
   "outputs": [
    {
     "data": {
      "image/png": "[encoded data removed]",
      "text/plain": [
       "<Figure size 1080x504 with 2 Axes>"
      ]
     },
     "metadata": {
      "needs_background": "light"
     },
     "output_type": "display_data"
    }
   ],
   "source": [
    "\n",
    "#We create a function to calculate the Binomial coefficients\n",
    "def coefbin(n):\n",
    "    vector=np.zeros(n+1)\n",
    "    for i in range(0,n+1):\n",
    "        vector[i]=scipy.special.binom(n,i)\n",
    "    \n",
    "    return vector\n",
    "\n",
    "#We plot the results for a Binomial with 5 time steps\n",
    "# and 30 time steps\n",
    "\n",
    "#We create the figure\n",
    "fig = plt.figure(figsize =(15 ,7) )\n",
    "\n",
    "#The first plot\n",
    "plt.subplot(1,2,1)\n",
    "\n",
    "#We write the Title for the Plot\n",
    "plt.title('5 Time Steps', fontsize=20) \n",
    "\n",
    "#We write the x-axis label\n",
    "plt.xlabel('Scenario', fontsize=16)\n",
    "\n",
    "#We write the y-axis label\n",
    "plt.ylabel('Times x scenario', fontsize=16) \n",
    "\n",
    "#We define the size of the x-axis\n",
    "plt.yticks(fontsize=15,)\n",
    "\n",
    "#We define the size of the y-axis\n",
    "plt.xticks(fontsize=15,)\n",
    "\n",
    "#We plot the results\n",
    "plt.bar(np.linspace(1,6,6),coefbin(5), color='Gray')\n",
    "\n",
    "#The second plot\n",
    "plt.subplot(1,2,2)\n",
    "\n",
    " #We write the Title for the Plot\n",
    "plt.title('30 Time Steps', fontsize=20)\n",
    "\n",
    "#We write the x-axis label\n",
    "plt.xlabel('Scenario', fontsize=16)\n",
    "\n",
    "#We write the y-axis label\n",
    "plt.ylabel('Times x scenario', fontsize=16)\n",
    "\n",
    "#We define the size of the y-axis\n",
    "plt.yticks(fontsize=15,)\n",
    "\n",
    "#We define the size of the x-axis\n",
    "plt.xticks(fontsize=15,)\n",
    "\n",
    "#We plot the results\n",
    "plt.bar(np.linspace(1,31,31),coefbin(30), color='Gray')\n",
    "\n",
    "plt.savefig('C:/Users/ra_me/Dropbox/Doc/17- Book - Introduction to Financial Mathematics/gfx/5-BinomialModel/Paths.eps', format='eps', bbox_inches = 'tight')\n",
    "\n",
    "\n",
    "plt.show()"
   ]
  },
  {
   "cell_type": "markdown",
   "id": "92037574",
   "metadata": {},
   "source": [
    "## The Binomial Model"
   ]
  },
  {
   "cell_type": "markdown",
   "id": "805d1c5c",
   "metadata": {},
   "source": [
    "We create a function to calculate: u, d and p"
   ]
  },
  {
   "cell_type": "code",
   "execution_count": 66,
   "id": "f5217f36",
   "metadata": {},
   "outputs": [],
   "source": [
    "#We upload the maths library\n",
    "import numpy as np\n",
    "\n",
    "def get_updown_probabilities(r,sigma,T,n):\n",
    "#This function calculate the up, down ratio\n",
    "#and the risk-neutral probability\n",
    "\n",
    "#Inputs: \n",
    "#r: risk-free rate\n",
    "#sigma: volatility\n",
    "#T: Maturity time\n",
    "#n: number of steps\n",
    " \n",
    "\n",
    "    # We calculate the time step size\n",
    "    dt=T/n\n",
    "\n",
    "    #We apply the u and d formulation\n",
    "    u=np.exp(sigma*np.sqrt(dt))\n",
    "    d=1/u\n",
    "\n",
    "    #Then, we calculate the risk-neutral probability\n",
    "    p=(np.exp(r*dt) -d)/(u-d)\n",
    "\n",
    "    return (u,d,p)"
   ]
  },
  {
   "cell_type": "code",
   "execution_count": 67,
   "id": "d5741064",
   "metadata": {},
   "outputs": [
    {
     "data": {
      "text/plain": [
       "(1.151909910168909, 0.8681234453945849, 0.5539082889483392)"
      ]
     },
     "execution_count": 67,
     "metadata": {},
     "output_type": "execute_result"
    }
   ],
   "source": [
    "get_updown_probabilities(0.05,0.20,1,2)"
   ]
  },
  {
   "cell_type": "markdown",
   "id": "31948ccb",
   "metadata": {},
   "source": [
    "We want to encapsulate the tree in a matrix\n",
    "We start working from the most basic example. Fill the whole matrix"
   ]
  },
  {
   "cell_type": "code",
   "execution_count": 68,
   "id": "7959908b",
   "metadata": {},
   "outputs": [
    {
     "data": {
      "text/plain": [
       "array([[ 1.,  5.,  9., 13.],\n",
       "       [ 2.,  6., 10., 14.],\n",
       "       [ 3.,  7., 11., 15.],\n",
       "       [ 4.,  8., 12., 16.]])"
      ]
     },
     "execution_count": 68,
     "metadata": {},
     "output_type": "execute_result"
    }
   ],
   "source": [
    "#Algorithm to move through all positions of a matrix\n",
    "\n",
    "#We upload the maths library\n",
    "import numpy as np\n",
    "\n",
    "#We create a Matrix with 4 positions\n",
    "Matrix=np.zeros((4,4))\n",
    "\n",
    "#We create a variable to number all the matrix positions\n",
    "count=1\n",
    "\n",
    "#For each column\n",
    "for j in range(0,4):\n",
    "    #For each row\n",
    "    for i in range(0,4):\n",
    "        Matrix[i,j]=count\n",
    "        count=count+1\n",
    "\n",
    "#Print Matrix\n",
    "Matrix"
   ]
  },
  {
   "cell_type": "markdown",
   "id": "67e8faf7",
   "metadata": {},
   "source": [
    "Note that when encapsulating the Binomial model in a matrix, we only need to fill the upper-diagonal side"
   ]
  },
  {
   "cell_type": "code",
   "execution_count": 69,
   "id": "9ac4d394",
   "metadata": {},
   "outputs": [
    {
     "data": {
      "text/plain": [
       "array([[ 1.,  2.,  4.,  7.],\n",
       "       [ 0.,  3.,  5.,  8.],\n",
       "       [ 0.,  0.,  6.,  9.],\n",
       "       [ 0.,  0.,  0., 10.]])"
      ]
     },
     "execution_count": 69,
     "metadata": {},
     "output_type": "execute_result"
    }
   ],
   "source": [
    "#Algorithm to move through all positions of a matrix\n",
    "\n",
    "#We upload the maths library\n",
    "import numpy as np\n",
    "\n",
    "#We create a Matrix with 4 positions\n",
    "Matrix=np.zeros((4,4))\n",
    "\n",
    "#We create a variable to number all the matrix positions\n",
    "count=1\n",
    "\n",
    "#For each column\n",
    "for j in range(0,4):\n",
    "    #For each row\n",
    "    for i in range(0,4):\n",
    "        #We add a condition to move only in the upper-diagonal matrix\n",
    "        if j>=i:\n",
    "            Matrix[i,j]=count\n",
    "            count=count+1\n",
    "\n",
    "#Print Matrix\n",
    "Matrix"
   ]
  },
  {
   "cell_type": "markdown",
   "id": "e61b75c5",
   "metadata": {},
   "source": [
    "But we can do it in a more elegant way, imposing the condition on the second for clause"
   ]
  },
  {
   "cell_type": "code",
   "execution_count": 70,
   "id": "43bb441d",
   "metadata": {},
   "outputs": [
    {
     "data": {
      "text/plain": [
       "array([[ 1.,  2.,  4.,  7.],\n",
       "       [ 0.,  3.,  5.,  8.],\n",
       "       [ 0.,  0.,  6.,  9.],\n",
       "       [ 0.,  0.,  0., 10.]])"
      ]
     },
     "execution_count": 70,
     "metadata": {},
     "output_type": "execute_result"
    }
   ],
   "source": [
    "#Algorithm to move through all positions of a matrix\n",
    "\n",
    "#We upload the maths library\n",
    "import numpy as np\n",
    "\n",
    "#We create a Matrix with 4 positions\n",
    "Matrix=np.zeros((4,4))\n",
    "\n",
    "#We create a variable to number all the matrix positions\n",
    "count=1\n",
    "\n",
    "#For each column\n",
    "for j in range(0,4):\n",
    "    #For each row\n",
    "    for i in range(0,j+1):\n",
    "            Matrix[i,j]=count\n",
    "            count=count+1\n",
    "\n",
    "#Print Matrix\n",
    "Matrix"
   ]
  },
  {
   "cell_type": "markdown",
   "id": "4ff9f471",
   "metadata": {},
   "source": [
    "We will create a function to populate the tree asset prices"
   ]
  },
  {
   "cell_type": "code",
   "execution_count": 72,
   "id": "07b1218f",
   "metadata": {},
   "outputs": [],
   "source": [
    "#Function to obtain prices on a Binomial model\n",
    "\n",
    "#We upload the maths library\n",
    "import numpy as np\n",
    "\n",
    "def get_prices(S,r,sigma,T,n):\n",
    "#This function calculate the up, down ratio\n",
    "#and the risk-neutral probability\n",
    "\n",
    "#Inputs: \n",
    "#r: risk-free rate\n",
    "#sigma: volatility\n",
    "#T: Maturity time\n",
    "#n: number of steps\n",
    " \n",
    "\n",
    "    # We calculate the time step size\n",
    "    dt=T/n\n",
    "\n",
    "    #We apply the u and d formulation\n",
    "    u=np.exp(sigma*np.sqrt(dt))\n",
    "    d=1/u\n",
    "\n",
    "    #Then, we calculate the risk-neutral probability\n",
    "    p=(np.exp(r*dt) -d)/(u-d)\n",
    "    \n",
    "    #We create a matrix to store the prices\n",
    "    Stree=np.zeros((n+1, n+1))\n",
    "    \n",
    "    #For each time step\n",
    "    for j in range(0,n+1):\n",
    "        #For each path\n",
    "        for i in range(0, j+1):\n",
    "            #The nodes are powers of u and d\n",
    "            Stree[i,j] = S*(u**(j-i))*(d**(i));\n",
    "\n",
    "    \n",
    "    return (u,d,p,Stree)"
   ]
  },
  {
   "cell_type": "code",
   "execution_count": 74,
   "id": "36bc2d9e",
   "metadata": {},
   "outputs": [
    {
     "data": {
      "text/plain": [
       "(1.1224009024456676,\n",
       " 0.8909472522884107,\n",
       " 0.5437765963610321,\n",
       " array([[100.        , 112.24009024, 125.97837858, 141.39824581],\n",
       "        [  0.        ,  89.09472523, 100.        , 112.24009024],\n",
       "        [  0.        ,   0.        ,  79.37870064,  89.09472523],\n",
       "        [  0.        ,   0.        ,   0.        ,  70.72223522]]))"
      ]
     },
     "execution_count": 74,
     "metadata": {},
     "output_type": "execute_result"
    }
   ],
   "source": [
    "get_prices(100,0.05,0.2,1,3)"
   ]
  },
  {
   "cell_type": "markdown",
   "id": "f600891e",
   "metadata": {},
   "source": [
    "Now, we will include the intrinsic value.\n",
    "The intrinsic value depends on the option type.\n",
    "We have to code the call option case and the put option one."
   ]
  },
  {
   "cell_type": "code",
   "execution_count": 75,
   "id": "d74715c5",
   "metadata": {},
   "outputs": [],
   "source": [
    "#Function to obtain prices on a Binomial model\n",
    "#As well as the Intrinsic option values\n",
    "\n",
    "#We upload the maths library\n",
    "import numpy as np\n",
    "\n",
    "def get_prices_and_intrinsic(S,K,r,sigma,T,n,otype):\n",
    "#This function calculate the up, down ratio\n",
    "#and the risk-neutral probability\n",
    "\n",
    "#Inputs: \n",
    "#r: risk-free rate\n",
    "#sigma: volatility\n",
    "#T: Maturity time\n",
    "#n: number of steps\n",
    " \n",
    "\n",
    "    # We calculate the time step size\n",
    "    dt=T/n\n",
    "\n",
    "    #We apply the u and d formulation\n",
    "    u=np.exp(sigma*np.sqrt(dt))\n",
    "    d=1/u\n",
    "\n",
    "    #Then, we calculate the risk-neutral probability\n",
    "    p=(np.exp(r*dt) -d)/(u-d)\n",
    "    \n",
    "    #We create a matrix to store the prices\n",
    "    Stree=np.zeros((n+1, n+1))\n",
    "    \n",
    "    #We create a matrix to store the intrinic value\n",
    "    Intrinsic=np.zeros((n+1, n+1))\n",
    "    \n",
    "    #For each time step\n",
    "    for j in range(0,n+1):\n",
    "        #For each path\n",
    "        for i in range(0,j+1):\n",
    "            #The nodes are powers of u and d\n",
    "            Stree[i,j] = S*(u**(j-i))*(d**(i))\n",
    "            \n",
    "            #Depending if is a call or a put\n",
    "            #we apply a different payoff function\n",
    "            if otype==\"call\":\n",
    "                Intrinsic[i,j]=np.maximum(Stree[i,j]-K,0)\n",
    "            elif otype==\"put\":\n",
    "                Intrinsic[i,j]=np.maximum(K-Stree[i,j],0)\n",
    "            else:\n",
    "                print(\"Wrong option type. Please write call or put\")\n",
    "    \n",
    "    return (u,d,p,Stree, Intrinsic)"
   ]
  },
  {
   "cell_type": "code",
   "execution_count": 78,
   "id": "bbb7ace0",
   "metadata": {},
   "outputs": [
    {
     "data": {
      "text/plain": [
       "(1.1224009024456676,\n",
       " 0.8909472522884107,\n",
       " 0.5437765963610321,\n",
       " array([[100.        , 112.24009024, 125.97837858, 141.39824581],\n",
       "        [  0.        ,  89.09472523, 100.        , 112.24009024],\n",
       "        [  0.        ,   0.        ,  79.37870064,  89.09472523],\n",
       "        [  0.        ,   0.        ,   0.        ,  70.72223522]]),\n",
       " array([[ 0.        , 12.24009024, 25.97837858, 41.39824581],\n",
       "        [ 0.        ,  0.        ,  0.        , 12.24009024],\n",
       "        [ 0.        ,  0.        ,  0.        ,  0.        ],\n",
       "        [ 0.        ,  0.        ,  0.        ,  0.        ]]))"
      ]
     },
     "execution_count": 78,
     "metadata": {},
     "output_type": "execute_result"
    }
   ],
   "source": [
    "get_prices_and_intrinsic(100,100,0.05,0.2,1,3, 'call')"
   ]
  },
  {
   "cell_type": "markdown",
   "id": "4348969d",
   "metadata": {},
   "source": [
    "We have to learn how to go backwards to calculate the option price.\n",
    "We start playing with a matrix to learn how it works"
   ]
  },
  {
   "cell_type": "code",
   "execution_count": 82,
   "id": "230703ad",
   "metadata": {},
   "outputs": [
    {
     "data": {
      "text/plain": [
       "array([[0., 8., 5., 1.],\n",
       "       [0., 9., 6., 2.],\n",
       "       [0., 0., 7., 3.],\n",
       "       [0., 0., 0., 4.]])"
      ]
     },
     "execution_count": 82,
     "metadata": {},
     "output_type": "execute_result"
    }
   ],
   "source": [
    "#Algorithm to move through all positions of a matrix\n",
    "\n",
    "#We upload the maths library\n",
    "import numpy as np\n",
    "\n",
    "#We create a Matrix with 4 positions\n",
    "Matrix=np.zeros((4,4))\n",
    "\n",
    "#We create a variable to number all the matrix positions\n",
    "count=1\n",
    "\n",
    "for j in range(3,0,-1):\n",
    "    for i in range(0,j+1):\n",
    "            Matrix[i,j]=count\n",
    "            count=count+1\n",
    "\n",
    "#Print Matrix\n",
    "Matrix"
   ]
  },
  {
   "cell_type": "markdown",
   "id": "05702372",
   "metadata": {},
   "source": [
    "My first code for finding option values"
   ]
  },
  {
   "cell_type": "code",
   "execution_count": 83,
   "id": "b4bce43e",
   "metadata": {},
   "outputs": [],
   "source": [
    "#Function to obtain prices on a Binomial model\n",
    "#As well as the Intrinsic option values\n",
    "\n",
    "#We upload the maths library\n",
    "import numpy as np\n",
    "\n",
    "def EuBinomial(S,K,r,sigma,T,n,otype):\n",
    "#This function calculate the up, down ratio\n",
    "#and the risk-neutral probability\n",
    "\n",
    "#Inputs: \n",
    "#r: risk-free rate\n",
    "#sigma: volatility\n",
    "#T: Maturity time\n",
    "#n: number of steps\n",
    " \n",
    "\n",
    "    # We calculate the time step size\n",
    "    dt=T/n\n",
    "\n",
    "    #We apply the u and d formulation\n",
    "    u=np.exp(sigma*np.sqrt(dt))\n",
    "    d=1/u\n",
    "\n",
    "    #Then, we calculate the risk-neutral probability\n",
    "    p=(np.exp(r*dt) -d)/(u-d)\n",
    "    \n",
    "    #We create a matrix to store the prices\n",
    "    Stree=np.zeros((n+1, n+1))\n",
    "    \n",
    "    #We create a matrix to store the intrinic value\n",
    "    Intrinsic=np.zeros((n+1, n+1))\n",
    "    \n",
    "    #We create a matrix to store the option value\n",
    "    Option=np.zeros((n+1, n+1))\n",
    "    \n",
    "    #For each path\n",
    "    for j in range(0,n+1):\n",
    "        #For each time step\n",
    "        for i in range(0,j+1):\n",
    "            #The nodes are powers of u and d\n",
    "            Stree[i,j] = S*(u**(j-i))*(d**(i))\n",
    "            \n",
    "            #Depending if is a call or a put\n",
    "            #we apply a different payoff function\n",
    "            if otype==\"call\":\n",
    "                Intrinsic[i,j]=np.maximum(Stree[i,j]-K,0)\n",
    "            elif otype==\"put\":\n",
    "                Intrinsic[i,j]=np.maximum(K-Stree[i,j],0)\n",
    "            else:\n",
    "                print(\"Wrong option type. Please write call or put\")\n",
    "            \n",
    "      \n",
    "    #For each path\n",
    "    for j in range(n,-1,-1):\n",
    "        #For each time step\n",
    "         for i in range(0, j+1):\n",
    "            if j==n:\n",
    "                Option[i,j] = Intrinsic[i,j]\n",
    "            else:\n",
    "                Option[i,j] = np.exp(-r*dt)*(Option[i,j+1]*p\\\n",
    "                                             + Option[i+1,j+1]*(1-p))  \n",
    "    \n",
    "    print(\"The Option price is\", Option [0,0])\n",
    "            \n",
    "    \n",
    "    return (u,d,p,Stree, Intrinsic, Option)"
   ]
  },
  {
   "cell_type": "code",
   "execution_count": 85,
   "id": "c56bcb6f",
   "metadata": {},
   "outputs": [
    {
     "name": "stdout",
     "output_type": "stream",
     "text": [
      "The Option price is 2.686315513218586\n"
     ]
    },
    {
     "data": {
      "text/plain": [
       "(1.2214027581601699,\n",
       " 0.8187307530779818,\n",
       " 0.5003342283694454,\n",
       " array([[5.        , 6.10701379, 7.45912349],\n",
       "        [0.        , 4.09365377, 5.        ],\n",
       "        [0.        , 0.        , 3.35160023]]),\n",
       " array([[3.        , 1.89298621, 0.54087651],\n",
       "        [0.        , 3.90634623, 3.        ],\n",
       "        [0.        , 0.        , 4.64839977]]),\n",
       " array([[2.68631551, 1.7345756 , 0.54087651],\n",
       "        [0.        , 3.74793562, 3.        ],\n",
       "        [0.        , 0.        , 4.64839977]]))"
      ]
     },
     "execution_count": 85,
     "metadata": {},
     "output_type": "execute_result"
    }
   ],
   "source": [
    "S=5\n",
    "K=8\n",
    "r=0.02\n",
    "sigma=0.20\n",
    "T=2\n",
    "n=2\n",
    "otype=\"put\"\n",
    "EuBinomial(S,K,r,sigma,T,n,otype)"
   ]
  },
  {
   "cell_type": "markdown",
   "id": "66a0b80e",
   "metadata": {},
   "source": [
    "We add the American style in our code"
   ]
  },
  {
   "cell_type": "code",
   "execution_count": 86,
   "id": "3bd6485c",
   "metadata": {},
   "outputs": [],
   "source": [
    "#Function to obtain prices on a Binomial model\n",
    "#As well as the Intrinsic option values\n",
    "\n",
    "#We upload the maths library\n",
    "import numpy as np\n",
    "\n",
    "def Binomial(S,K,r,sigma,T,n,otype, EuOrAm):\n",
    "#This function calculate the up, down ratio\n",
    "#and the risk-neutral probability\n",
    "\n",
    "#Inputs: \n",
    "#r: risk-free rate\n",
    "#sigma: volatility\n",
    "#T: Maturity time\n",
    "#n: number of steps\n",
    "    # We calculate the time step size\n",
    "    dt=T/n\n",
    "\n",
    "    #We apply the u and d formulation\n",
    "    u=np.exp(sigma*np.sqrt(dt))\n",
    "    d=1/u\n",
    "\n",
    "    #Then, we calculate the risk-neutral probability\n",
    "    p=(np.exp(r*dt) -d)/(u-d)\n",
    "    \n",
    "    #We create a matrix to store the prices\n",
    "    Stree=np.zeros((n+1, n+1))\n",
    "    \n",
    "    #We create a matrix to store the intrinic value\n",
    "    Intrinsic=np.zeros((n+1, n+1))\n",
    "    \n",
    "    #We create a matrix to store the option value\n",
    "    Option=np.zeros((n+1, n+1))\n",
    "    \n",
    "    #For each path\n",
    "    for j in range(0,n+1):\n",
    "        #For each time step\n",
    "        for i in range(0,j+1):\n",
    "            #The nodes are powers of u and d\n",
    "            Stree[i,j] = S*(u**(j-i))*(d**(i))\n",
    "            \n",
    "            #Depending if is a call or a put\n",
    "            #we apply a different payoff function\n",
    "            if otype==\"call\":\n",
    "                Intrinsic[i,j]=np.maximum(Stree[i,j]-K,0)\n",
    "            elif otype==\"put\":\n",
    "                Intrinsic[i,j]=np.maximum(K-Stree[i,j],0)\n",
    "            else:\n",
    "                print(\"Wrong option type. Please write call or put\")\n",
    "            \n",
    "      \n",
    "    #For each path\n",
    "    for j in range(n,-1,-1):\n",
    "        #For each time step\n",
    "         for i in range(0, j+1):\n",
    "            if j==n:\n",
    "                Option[i,j] = Intrinsic[i,j]\n",
    "            else:\n",
    "                Option[i,j] = np.exp(-r*dt)*(Option[i,j+1]*p\\\n",
    "                                             + Option[i+1,j+1]*(1-p))\n",
    "                \n",
    "                #If it is American, we compare the option at the node\n",
    "                #with its intrinsic value.\n",
    "                #Choosing the maximum.\n",
    "                if EuOrAm==\"American\":\n",
    "                    Option[i,j]=np.maximum(Intrinsic[i,j],Option[i,j])\n",
    "    \n",
    "    print(\"The Option price is\", Option [0,0])\n",
    "            \n",
    "    \n",
    "    return (u,d,p,Stree, Intrinsic, Option)"
   ]
  },
  {
   "cell_type": "code",
   "execution_count": 87,
   "id": "831c6e89",
   "metadata": {},
   "outputs": [
    {
     "name": "stdout",
     "output_type": "stream",
     "text": [
      "The Option price is 3.0\n"
     ]
    },
    {
     "data": {
      "text/plain": [
       "(1.2214027581601699,\n",
       " 0.8187307530779818,\n",
       " 0.5003342283694454,\n",
       " array([[5.        , 6.10701379, 7.45912349],\n",
       "        [0.        , 4.09365377, 5.        ],\n",
       "        [0.        , 0.        , 3.35160023]]),\n",
       " array([[3.        , 1.89298621, 0.54087651],\n",
       "        [0.        , 3.90634623, 3.        ],\n",
       "        [0.        , 0.        , 4.64839977]]),\n",
       " array([[3.        , 1.89298621, 0.54087651],\n",
       "        [0.        , 3.90634623, 3.        ],\n",
       "        [0.        , 0.        , 4.64839977]]))"
      ]
     },
     "execution_count": 87,
     "metadata": {},
     "output_type": "execute_result"
    }
   ],
   "source": [
    "S=5\n",
    "K=8\n",
    "r=0.02\n",
    "sigma=0.20\n",
    "T=2\n",
    "n=2\n",
    "otype=\"put\"\n",
    "Binomial(S,K,r,sigma,T,n,otype, \"American\")"
   ]
  }
 ],
 "metadata": {
  "kernelspec": {
   "display_name": "Python 3",
   "language": "python",
   "name": "python3"
  },
  "language_info": {
   "codemirror_mode": {
    "name": "ipython",
    "version": 3
   },
   "file_extension": ".py",
   "mimetype": "text/x-python",
   "name": "python",
   "nbconvert_exporter": "python",
   "pygments_lexer": "ipython3",
   "version": "3.7.6"
  }
 },
 "nbformat": 4,
 "nbformat_minor": 5
}
