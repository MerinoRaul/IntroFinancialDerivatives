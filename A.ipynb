{
 "cells": [
  {
   "cell_type": "markdown",
   "id": "f1b3fcae",
   "metadata": {},
   "source": [
    "## Write comments on the code"
   ]
  },
  {
   "cell_type": "markdown",
   "id": "6ca8b253",
   "metadata": {},
   "source": [
    "We use the \"#\" character when we want to write a comment in our code."
   ]
  },
  {
   "cell_type": "markdown",
   "id": "eb854d5f",
   "metadata": {},
   "source": [
    "## Basic Operations"
   ]
  },
  {
   "cell_type": "markdown",
   "id": "438db176",
   "metadata": {},
   "source": [
    "Sum of two numbers"
   ]
  },
  {
   "cell_type": "code",
   "execution_count": 58,
   "id": "7b593807",
   "metadata": {},
   "outputs": [
    {
     "data": {
      "text/plain": [
       "4"
      ]
     },
     "execution_count": 58,
     "metadata": {},
     "output_type": "execute_result"
    }
   ],
   "source": [
    "2+2"
   ]
  },
  {
   "cell_type": "markdown",
   "id": "d28e834d",
   "metadata": {},
   "source": [
    "Multiply to numbers"
   ]
  },
  {
   "cell_type": "code",
   "execution_count": 59,
   "id": "b2d0ece2",
   "metadata": {},
   "outputs": [
    {
     "data": {
      "text/plain": [
       "12"
      ]
     },
     "execution_count": 59,
     "metadata": {},
     "output_type": "execute_result"
    }
   ],
   "source": [
    "4*3"
   ]
  },
  {
   "cell_type": "markdown",
   "id": "f284ac9d",
   "metadata": {},
   "source": [
    "Divide two numbers"
   ]
  },
  {
   "cell_type": "code",
   "execution_count": 60,
   "id": "14896e1a",
   "metadata": {},
   "outputs": [
    {
     "data": {
      "text/plain": [
       "1.3333333333333333"
      ]
     },
     "execution_count": 60,
     "metadata": {},
     "output_type": "execute_result"
    }
   ],
   "source": [
    "4/3"
   ]
  },
  {
   "cell_type": "markdown",
   "id": "4541785a",
   "metadata": {},
   "source": [
    "The integer part of a division"
   ]
  },
  {
   "cell_type": "code",
   "execution_count": 61,
   "id": "f4113e56",
   "metadata": {},
   "outputs": [
    {
     "data": {
      "text/plain": [
       "1"
      ]
     },
     "execution_count": 61,
     "metadata": {},
     "output_type": "execute_result"
    }
   ],
   "source": [
    "4//3"
   ]
  },
  {
   "cell_type": "markdown",
   "id": "b64a4059",
   "metadata": {},
   "source": [
    "The remainder of a division:"
   ]
  },
  {
   "cell_type": "code",
   "execution_count": 62,
   "id": "f9408058",
   "metadata": {},
   "outputs": [
    {
     "data": {
      "text/plain": [
       "2"
      ]
     },
     "execution_count": 62,
     "metadata": {},
     "output_type": "execute_result"
    }
   ],
   "source": [
    "8%3"
   ]
  },
  {
   "cell_type": "markdown",
   "id": "b9a9b459",
   "metadata": {},
   "source": [
    "Calculate the power of a number"
   ]
  },
  {
   "cell_type": "code",
   "execution_count": 63,
   "id": "426a9bf7",
   "metadata": {},
   "outputs": [
    {
     "data": {
      "text/plain": [
       "64"
      ]
     },
     "execution_count": 63,
     "metadata": {},
     "output_type": "execute_result"
    }
   ],
   "source": [
    "4**3"
   ]
  },
  {
   "cell_type": "markdown",
   "id": "f6917bfa",
   "metadata": {},
   "source": [
    "## Variables"
   ]
  },
  {
   "cell_type": "markdown",
   "id": "28a1c932",
   "metadata": {},
   "source": [
    "In a variable can be store any data type:  a number, an array, a string, etc. A variable is created once you assign a value to it."
   ]
  },
  {
   "cell_type": "code",
   "execution_count": 64,
   "id": "fd76d95f",
   "metadata": {},
   "outputs": [
    {
     "name": "stdout",
     "output_type": "stream",
     "text": [
      "9\n",
      "9\n"
     ]
    }
   ],
   "source": [
    "a=7\n",
    "b=2\n",
    "c=a+b\n",
    "print(a+b)\n",
    "print(c)"
   ]
  },
  {
   "cell_type": "markdown",
   "id": "995aa615",
   "metadata": {},
   "source": [
    "You can choose the name's variable you want, but is recommended to to follow the next rules:\n",
    "    - A variable name must be meaningful. The name should be descriptive and short. \n",
    "    - A variable name must start with a letter or the underscore character.\n",
    "    - A variable name can only contain alpha-numeric characters and underscores (A-z, 0-9 and $\\underline{ }$)\n",
    "    - Variable names are case sensitive: stock and Stock are two different variables.\n",
    "    - Avoid reserved words, you can find them by typing help('keywords')."
   ]
  },
  {
   "cell_type": "code",
   "execution_count": 65,
   "id": "74bc5afc",
   "metadata": {},
   "outputs": [
    {
     "name": "stdout",
     "output_type": "stream",
     "text": [
      "\n",
      "Here is a list of the Python keywords.  Enter any keyword to get more help.\n",
      "\n",
      "False               class               from                or\n",
      "None                continue            global              pass\n",
      "True                def                 if                  raise\n",
      "and                 del                 import              return\n",
      "as                  elif                in                  try\n",
      "assert              else                is                  while\n",
      "async               except              lambda              with\n",
      "await               finally             nonlocal            yield\n",
      "break               for                 not                 \n",
      "\n"
     ]
    }
   ],
   "source": [
    "help(\"keywords\")"
   ]
  },
  {
   "cell_type": "markdown",
   "id": "4bde38c2",
   "metadata": {},
   "source": [
    "## Print a message on the screen"
   ]
  },
  {
   "cell_type": "markdown",
   "id": "295ff98d",
   "metadata": {},
   "source": [
    "Print a message on the screen"
   ]
  },
  {
   "cell_type": "code",
   "execution_count": 66,
   "id": "6c177491",
   "metadata": {},
   "outputs": [
    {
     "name": "stdout",
     "output_type": "stream",
     "text": [
      "Hello, world!\n"
     ]
    }
   ],
   "source": [
    "print(\"Hello, world!\")"
   ]
  },
  {
   "cell_type": "markdown",
   "id": "99c22b83",
   "metadata": {},
   "source": [
    "Create a string variable and print it"
   ]
  },
  {
   "cell_type": "code",
   "execution_count": 67,
   "id": "8c59d8e2",
   "metadata": {},
   "outputs": [
    {
     "name": "stdout",
     "output_type": "stream",
     "text": [
      "Hello  Marc !\n"
     ]
    }
   ],
   "source": [
    "name=\"Marc\"\n",
    "print(\"Hello \", name , \"!\")"
   ]
  },
  {
   "cell_type": "markdown",
   "id": "5a856229",
   "metadata": {},
   "source": [
    "Create a number variable and print it"
   ]
  },
  {
   "cell_type": "code",
   "execution_count": 68,
   "id": "a88ee9be",
   "metadata": {},
   "outputs": [
    {
     "name": "stdout",
     "output_type": "stream",
     "text": [
      "I'm  42\n"
     ]
    }
   ],
   "source": [
    "age=42\n",
    "print(\"I\\'m \", age)"
   ]
  },
  {
   "cell_type": "markdown",
   "id": "7a93892a",
   "metadata": {},
   "source": [
    "## Read Data"
   ]
  },
  {
   "cell_type": "code",
   "execution_count": 69,
   "id": "ed248039",
   "metadata": {},
   "outputs": [
    {
     "data": {
      "text/html": [
       "<div>\n",
       "<style scoped>\n",
       "    .dataframe tbody tr th:only-of-type {\n",
       "        vertical-align: middle;\n",
       "    }\n",
       "\n",
       "    .dataframe tbody tr th {\n",
       "        vertical-align: top;\n",
       "    }\n",
       "\n",
       "    .dataframe thead th {\n",
       "        text-align: right;\n",
       "    }\n",
       "</style>\n",
       "<table border=\"1\" class=\"dataframe\">\n",
       "  <thead>\n",
       "    <tr style=\"text-align: right;\">\n",
       "      <th></th>\n",
       "      <th>Date</th>\n",
       "      <th>Open</th>\n",
       "      <th>High</th>\n",
       "      <th>Low</th>\n",
       "      <th>Close</th>\n",
       "      <th>Adj_Close</th>\n",
       "      <th>Volume</th>\n",
       "    </tr>\n",
       "  </thead>\n",
       "  <tbody>\n",
       "    <tr>\n",
       "      <th>0</th>\n",
       "      <td>2010-06-29</td>\n",
       "      <td>3.800000</td>\n",
       "      <td>5.000000</td>\n",
       "      <td>3.508000</td>\n",
       "      <td>4.778000</td>\n",
       "      <td>4.778000</td>\n",
       "      <td>93831500</td>\n",
       "    </tr>\n",
       "    <tr>\n",
       "      <th>1</th>\n",
       "      <td>2010-06-30</td>\n",
       "      <td>5.158000</td>\n",
       "      <td>6.084000</td>\n",
       "      <td>4.660000</td>\n",
       "      <td>4.766000</td>\n",
       "      <td>4.766000</td>\n",
       "      <td>85935500</td>\n",
       "    </tr>\n",
       "    <tr>\n",
       "      <th>2</th>\n",
       "      <td>2010-07-01</td>\n",
       "      <td>5.000000</td>\n",
       "      <td>5.184000</td>\n",
       "      <td>4.054000</td>\n",
       "      <td>4.392000</td>\n",
       "      <td>4.392000</td>\n",
       "      <td>41094000</td>\n",
       "    </tr>\n",
       "    <tr>\n",
       "      <th>3</th>\n",
       "      <td>2010-07-02</td>\n",
       "      <td>4.600000</td>\n",
       "      <td>4.620000</td>\n",
       "      <td>3.742000</td>\n",
       "      <td>3.840000</td>\n",
       "      <td>3.840000</td>\n",
       "      <td>25699000</td>\n",
       "    </tr>\n",
       "    <tr>\n",
       "      <th>4</th>\n",
       "      <td>2010-07-06</td>\n",
       "      <td>4.000000</td>\n",
       "      <td>4.000000</td>\n",
       "      <td>3.166000</td>\n",
       "      <td>3.222000</td>\n",
       "      <td>3.222000</td>\n",
       "      <td>34334500</td>\n",
       "    </tr>\n",
       "    <tr>\n",
       "      <th>...</th>\n",
       "      <td>...</td>\n",
       "      <td>...</td>\n",
       "      <td>...</td>\n",
       "      <td>...</td>\n",
       "      <td>...</td>\n",
       "      <td>...</td>\n",
       "      <td>...</td>\n",
       "    </tr>\n",
       "    <tr>\n",
       "      <th>3026</th>\n",
       "      <td>2022-07-07</td>\n",
       "      <td>701.760010</td>\n",
       "      <td>736.090027</td>\n",
       "      <td>696.630005</td>\n",
       "      <td>733.630005</td>\n",
       "      <td>733.630005</td>\n",
       "      <td>27310200</td>\n",
       "    </tr>\n",
       "    <tr>\n",
       "      <th>3027</th>\n",
       "      <td>2022-07-08</td>\n",
       "      <td>727.000000</td>\n",
       "      <td>764.940002</td>\n",
       "      <td>723.479980</td>\n",
       "      <td>752.289978</td>\n",
       "      <td>752.289978</td>\n",
       "      <td>33343700</td>\n",
       "    </tr>\n",
       "    <tr>\n",
       "      <th>3028</th>\n",
       "      <td>2022-07-11</td>\n",
       "      <td>756.309998</td>\n",
       "      <td>759.190002</td>\n",
       "      <td>700.880005</td>\n",
       "      <td>703.030029</td>\n",
       "      <td>703.030029</td>\n",
       "      <td>33080400</td>\n",
       "    </tr>\n",
       "    <tr>\n",
       "      <th>3029</th>\n",
       "      <td>2022-07-12</td>\n",
       "      <td>710.539978</td>\n",
       "      <td>719.320007</td>\n",
       "      <td>685.109985</td>\n",
       "      <td>699.210022</td>\n",
       "      <td>699.210022</td>\n",
       "      <td>29310300</td>\n",
       "    </tr>\n",
       "    <tr>\n",
       "      <th>3030</th>\n",
       "      <td>2022-07-13</td>\n",
       "      <td>676.500000</td>\n",
       "      <td>726.179993</td>\n",
       "      <td>675.099976</td>\n",
       "      <td>711.119995</td>\n",
       "      <td>711.119995</td>\n",
       "      <td>32651500</td>\n",
       "    </tr>\n",
       "  </tbody>\n",
       "</table>\n",
       "<p>3031 rows × 7 columns</p>\n",
       "</div>"
      ],
      "text/plain": [
       "            Date        Open        High         Low       Close   Adj_Close  \\\n",
       "0     2010-06-29    3.800000    5.000000    3.508000    4.778000    4.778000   \n",
       "1     2010-06-30    5.158000    6.084000    4.660000    4.766000    4.766000   \n",
       "2     2010-07-01    5.000000    5.184000    4.054000    4.392000    4.392000   \n",
       "3     2010-07-02    4.600000    4.620000    3.742000    3.840000    3.840000   \n",
       "4     2010-07-06    4.000000    4.000000    3.166000    3.222000    3.222000   \n",
       "...          ...         ...         ...         ...         ...         ...   \n",
       "3026  2022-07-07  701.760010  736.090027  696.630005  733.630005  733.630005   \n",
       "3027  2022-07-08  727.000000  764.940002  723.479980  752.289978  752.289978   \n",
       "3028  2022-07-11  756.309998  759.190002  700.880005  703.030029  703.030029   \n",
       "3029  2022-07-12  710.539978  719.320007  685.109985  699.210022  699.210022   \n",
       "3030  2022-07-13  676.500000  726.179993  675.099976  711.119995  711.119995   \n",
       "\n",
       "        Volume  \n",
       "0     93831500  \n",
       "1     85935500  \n",
       "2     41094000  \n",
       "3     25699000  \n",
       "4     34334500  \n",
       "...        ...  \n",
       "3026  27310200  \n",
       "3027  33343700  \n",
       "3028  33080400  \n",
       "3029  29310300  \n",
       "3030  32651500  \n",
       "\n",
       "[3031 rows x 7 columns]"
      ]
     },
     "execution_count": 69,
     "metadata": {},
     "output_type": "execute_result"
    }
   ],
   "source": [
    "#We import the package\n",
    "import pandas as pd\n",
    "\n",
    "#We load the data\n",
    "Stock=pd.read_csv(\"C:/Users/ra_me/Dropbox/Doc/17- Book - Introduction to Financial Mathematics/Python/Stock.csv\")\n",
    "\n",
    "#We show the stock's data on the screen\n",
    "Stock"
   ]
  },
  {
   "cell_type": "code",
   "execution_count": 70,
   "id": "ef560a0d",
   "metadata": {},
   "outputs": [
    {
     "data": {
      "text/html": [
       "<div>\n",
       "<style scoped>\n",
       "    .dataframe tbody tr th:only-of-type {\n",
       "        vertical-align: middle;\n",
       "    }\n",
       "\n",
       "    .dataframe tbody tr th {\n",
       "        vertical-align: top;\n",
       "    }\n",
       "\n",
       "    .dataframe thead th {\n",
       "        text-align: right;\n",
       "    }\n",
       "</style>\n",
       "<table border=\"1\" class=\"dataframe\">\n",
       "  <thead>\n",
       "    <tr style=\"text-align: right;\">\n",
       "      <th></th>\n",
       "      <th>Date</th>\n",
       "      <th>Open</th>\n",
       "      <th>High</th>\n",
       "      <th>Low</th>\n",
       "      <th>Close</th>\n",
       "      <th>Adj Close</th>\n",
       "      <th>Volume</th>\n",
       "    </tr>\n",
       "  </thead>\n",
       "  <tbody>\n",
       "    <tr>\n",
       "      <th>0</th>\n",
       "      <td>2010-06-29</td>\n",
       "      <td>3.800000</td>\n",
       "      <td>5.000000</td>\n",
       "      <td>3.508000</td>\n",
       "      <td>4.778000</td>\n",
       "      <td>4.778000</td>\n",
       "      <td>93831500</td>\n",
       "    </tr>\n",
       "    <tr>\n",
       "      <th>1</th>\n",
       "      <td>2010-06-30</td>\n",
       "      <td>5.158000</td>\n",
       "      <td>6.084000</td>\n",
       "      <td>4.660000</td>\n",
       "      <td>4.766000</td>\n",
       "      <td>4.766000</td>\n",
       "      <td>85935500</td>\n",
       "    </tr>\n",
       "    <tr>\n",
       "      <th>2</th>\n",
       "      <td>2010-07-01</td>\n",
       "      <td>5.000000</td>\n",
       "      <td>5.184000</td>\n",
       "      <td>4.054000</td>\n",
       "      <td>4.392000</td>\n",
       "      <td>4.392000</td>\n",
       "      <td>41094000</td>\n",
       "    </tr>\n",
       "    <tr>\n",
       "      <th>3</th>\n",
       "      <td>2010-07-02</td>\n",
       "      <td>4.600000</td>\n",
       "      <td>4.620000</td>\n",
       "      <td>3.742000</td>\n",
       "      <td>3.840000</td>\n",
       "      <td>3.840000</td>\n",
       "      <td>25699000</td>\n",
       "    </tr>\n",
       "    <tr>\n",
       "      <th>4</th>\n",
       "      <td>2010-07-06</td>\n",
       "      <td>4.000000</td>\n",
       "      <td>4.000000</td>\n",
       "      <td>3.166000</td>\n",
       "      <td>3.222000</td>\n",
       "      <td>3.222000</td>\n",
       "      <td>34334500</td>\n",
       "    </tr>\n",
       "    <tr>\n",
       "      <th>...</th>\n",
       "      <td>...</td>\n",
       "      <td>...</td>\n",
       "      <td>...</td>\n",
       "      <td>...</td>\n",
       "      <td>...</td>\n",
       "      <td>...</td>\n",
       "      <td>...</td>\n",
       "    </tr>\n",
       "    <tr>\n",
       "      <th>3026</th>\n",
       "      <td>2022-07-07</td>\n",
       "      <td>701.760010</td>\n",
       "      <td>736.090027</td>\n",
       "      <td>696.630005</td>\n",
       "      <td>733.630005</td>\n",
       "      <td>733.630005</td>\n",
       "      <td>27310200</td>\n",
       "    </tr>\n",
       "    <tr>\n",
       "      <th>3027</th>\n",
       "      <td>2022-07-08</td>\n",
       "      <td>727.000000</td>\n",
       "      <td>764.940002</td>\n",
       "      <td>723.479980</td>\n",
       "      <td>752.289978</td>\n",
       "      <td>752.289978</td>\n",
       "      <td>33343700</td>\n",
       "    </tr>\n",
       "    <tr>\n",
       "      <th>3028</th>\n",
       "      <td>2022-07-11</td>\n",
       "      <td>756.309998</td>\n",
       "      <td>759.190002</td>\n",
       "      <td>700.880005</td>\n",
       "      <td>703.030029</td>\n",
       "      <td>703.030029</td>\n",
       "      <td>33080400</td>\n",
       "    </tr>\n",
       "    <tr>\n",
       "      <th>3029</th>\n",
       "      <td>2022-07-12</td>\n",
       "      <td>710.539978</td>\n",
       "      <td>719.320007</td>\n",
       "      <td>685.109985</td>\n",
       "      <td>699.210022</td>\n",
       "      <td>699.210022</td>\n",
       "      <td>29310300</td>\n",
       "    </tr>\n",
       "    <tr>\n",
       "      <th>3030</th>\n",
       "      <td>2022-07-13</td>\n",
       "      <td>676.500000</td>\n",
       "      <td>726.179993</td>\n",
       "      <td>675.099976</td>\n",
       "      <td>711.119995</td>\n",
       "      <td>711.119995</td>\n",
       "      <td>32651500</td>\n",
       "    </tr>\n",
       "  </tbody>\n",
       "</table>\n",
       "<p>3031 rows × 7 columns</p>\n",
       "</div>"
      ],
      "text/plain": [
       "            Date        Open        High         Low       Close   Adj Close  \\\n",
       "0     2010-06-29    3.800000    5.000000    3.508000    4.778000    4.778000   \n",
       "1     2010-06-30    5.158000    6.084000    4.660000    4.766000    4.766000   \n",
       "2     2010-07-01    5.000000    5.184000    4.054000    4.392000    4.392000   \n",
       "3     2010-07-02    4.600000    4.620000    3.742000    3.840000    3.840000   \n",
       "4     2010-07-06    4.000000    4.000000    3.166000    3.222000    3.222000   \n",
       "...          ...         ...         ...         ...         ...         ...   \n",
       "3026  2022-07-07  701.760010  736.090027  696.630005  733.630005  733.630005   \n",
       "3027  2022-07-08  727.000000  764.940002  723.479980  752.289978  752.289978   \n",
       "3028  2022-07-11  756.309998  759.190002  700.880005  703.030029  703.030029   \n",
       "3029  2022-07-12  710.539978  719.320007  685.109985  699.210022  699.210022   \n",
       "3030  2022-07-13  676.500000  726.179993  675.099976  711.119995  711.119995   \n",
       "\n",
       "        Volume  \n",
       "0     93831500  \n",
       "1     85935500  \n",
       "2     41094000  \n",
       "3     25699000  \n",
       "4     34334500  \n",
       "...        ...  \n",
       "3026  27310200  \n",
       "3027  33343700  \n",
       "3028  33080400  \n",
       "3029  29310300  \n",
       "3030  32651500  \n",
       "\n",
       "[3031 rows x 7 columns]"
      ]
     },
     "execution_count": 70,
     "metadata": {},
     "output_type": "execute_result"
    }
   ],
   "source": [
    "#We load the data\n",
    "Stock2=pd.read_csv(\"C:/Users/ra_me/Dropbox/Doc/17- Book - Introduction to Financial Mathematics/Python/Stock_delimiter.csv\", delimiter=\";\")\n",
    "\n",
    "#We show the stock's data on the screen\n",
    "Stock2"
   ]
  },
  {
   "cell_type": "code",
   "execution_count": 71,
   "id": "0c2aada0",
   "metadata": {},
   "outputs": [
    {
     "data": {
      "text/html": [
       "<div>\n",
       "<style scoped>\n",
       "    .dataframe tbody tr th:only-of-type {\n",
       "        vertical-align: middle;\n",
       "    }\n",
       "\n",
       "    .dataframe tbody tr th {\n",
       "        vertical-align: top;\n",
       "    }\n",
       "\n",
       "    .dataframe thead th {\n",
       "        text-align: right;\n",
       "    }\n",
       "</style>\n",
       "<table border=\"1\" class=\"dataframe\">\n",
       "  <thead>\n",
       "    <tr style=\"text-align: right;\">\n",
       "      <th></th>\n",
       "      <th>Date</th>\n",
       "      <th>Open</th>\n",
       "      <th>High</th>\n",
       "      <th>Low</th>\n",
       "      <th>Close</th>\n",
       "      <th>Adj Close</th>\n",
       "      <th>Volume</th>\n",
       "    </tr>\n",
       "  </thead>\n",
       "  <tbody>\n",
       "    <tr>\n",
       "      <th>0</th>\n",
       "      <td>2010-06-29</td>\n",
       "      <td>3.800000</td>\n",
       "      <td>5.000000</td>\n",
       "      <td>3.508000</td>\n",
       "      <td>4.778000</td>\n",
       "      <td>4.778000</td>\n",
       "      <td>93831500</td>\n",
       "    </tr>\n",
       "    <tr>\n",
       "      <th>1</th>\n",
       "      <td>2010-06-30</td>\n",
       "      <td>5.158000</td>\n",
       "      <td>6.084000</td>\n",
       "      <td>4.660000</td>\n",
       "      <td>4.766000</td>\n",
       "      <td>4.766000</td>\n",
       "      <td>85935500</td>\n",
       "    </tr>\n",
       "    <tr>\n",
       "      <th>2</th>\n",
       "      <td>2010-07-01</td>\n",
       "      <td>5.000000</td>\n",
       "      <td>5.184000</td>\n",
       "      <td>4.054000</td>\n",
       "      <td>4.392000</td>\n",
       "      <td>4.392000</td>\n",
       "      <td>41094000</td>\n",
       "    </tr>\n",
       "    <tr>\n",
       "      <th>3</th>\n",
       "      <td>2010-07-02</td>\n",
       "      <td>4.600000</td>\n",
       "      <td>4.620000</td>\n",
       "      <td>3.742000</td>\n",
       "      <td>3.840000</td>\n",
       "      <td>3.840000</td>\n",
       "      <td>25699000</td>\n",
       "    </tr>\n",
       "    <tr>\n",
       "      <th>4</th>\n",
       "      <td>2010-07-06</td>\n",
       "      <td>4.000000</td>\n",
       "      <td>4.000000</td>\n",
       "      <td>3.166000</td>\n",
       "      <td>3.222000</td>\n",
       "      <td>3.222000</td>\n",
       "      <td>34334500</td>\n",
       "    </tr>\n",
       "    <tr>\n",
       "      <th>...</th>\n",
       "      <td>...</td>\n",
       "      <td>...</td>\n",
       "      <td>...</td>\n",
       "      <td>...</td>\n",
       "      <td>...</td>\n",
       "      <td>...</td>\n",
       "      <td>...</td>\n",
       "    </tr>\n",
       "    <tr>\n",
       "      <th>3026</th>\n",
       "      <td>2022-07-07</td>\n",
       "      <td>701.760010</td>\n",
       "      <td>736.090027</td>\n",
       "      <td>696.630005</td>\n",
       "      <td>733.630005</td>\n",
       "      <td>733.630005</td>\n",
       "      <td>27310200</td>\n",
       "    </tr>\n",
       "    <tr>\n",
       "      <th>3027</th>\n",
       "      <td>2022-07-08</td>\n",
       "      <td>727.000000</td>\n",
       "      <td>764.940002</td>\n",
       "      <td>723.479980</td>\n",
       "      <td>752.289978</td>\n",
       "      <td>752.289978</td>\n",
       "      <td>33343700</td>\n",
       "    </tr>\n",
       "    <tr>\n",
       "      <th>3028</th>\n",
       "      <td>2022-07-11</td>\n",
       "      <td>756.309998</td>\n",
       "      <td>759.190002</td>\n",
       "      <td>700.880005</td>\n",
       "      <td>703.030029</td>\n",
       "      <td>703.030029</td>\n",
       "      <td>33080400</td>\n",
       "    </tr>\n",
       "    <tr>\n",
       "      <th>3029</th>\n",
       "      <td>2022-07-12</td>\n",
       "      <td>710.539978</td>\n",
       "      <td>719.320007</td>\n",
       "      <td>685.109985</td>\n",
       "      <td>699.210022</td>\n",
       "      <td>699.210022</td>\n",
       "      <td>29310300</td>\n",
       "    </tr>\n",
       "    <tr>\n",
       "      <th>3030</th>\n",
       "      <td>2022-07-13</td>\n",
       "      <td>676.500000</td>\n",
       "      <td>726.179993</td>\n",
       "      <td>675.099976</td>\n",
       "      <td>711.119995</td>\n",
       "      <td>711.119995</td>\n",
       "      <td>32651500</td>\n",
       "    </tr>\n",
       "  </tbody>\n",
       "</table>\n",
       "<p>3031 rows × 7 columns</p>\n",
       "</div>"
      ],
      "text/plain": [
       "            Date        Open        High         Low       Close   Adj Close  \\\n",
       "0     2010-06-29    3.800000    5.000000    3.508000    4.778000    4.778000   \n",
       "1     2010-06-30    5.158000    6.084000    4.660000    4.766000    4.766000   \n",
       "2     2010-07-01    5.000000    5.184000    4.054000    4.392000    4.392000   \n",
       "3     2010-07-02    4.600000    4.620000    3.742000    3.840000    3.840000   \n",
       "4     2010-07-06    4.000000    4.000000    3.166000    3.222000    3.222000   \n",
       "...          ...         ...         ...         ...         ...         ...   \n",
       "3026  2022-07-07  701.760010  736.090027  696.630005  733.630005  733.630005   \n",
       "3027  2022-07-08  727.000000  764.940002  723.479980  752.289978  752.289978   \n",
       "3028  2022-07-11  756.309998  759.190002  700.880005  703.030029  703.030029   \n",
       "3029  2022-07-12  710.539978  719.320007  685.109985  699.210022  699.210022   \n",
       "3030  2022-07-13  676.500000  726.179993  675.099976  711.119995  711.119995   \n",
       "\n",
       "        Volume  \n",
       "0     93831500  \n",
       "1     85935500  \n",
       "2     41094000  \n",
       "3     25699000  \n",
       "4     34334500  \n",
       "...        ...  \n",
       "3026  27310200  \n",
       "3027  33343700  \n",
       "3028  33080400  \n",
       "3029  29310300  \n",
       "3030  32651500  \n",
       "\n",
       "[3031 rows x 7 columns]"
      ]
     },
     "execution_count": 71,
     "metadata": {},
     "output_type": "execute_result"
    }
   ],
   "source": [
    "#We load the data\n",
    "Stock3=pd.read_csv(\"C:/Users/ra_me/Dropbox/Doc/17- Book - Introduction to Financial Mathematics/Python/Stock_delimiter.csv\", \n",
    "                 delimiter=\";\", thousands=\",\")\n",
    "\n",
    "#We show the stock's data on the screen\n",
    "Stock3"
   ]
  },
  {
   "cell_type": "code",
   "execution_count": 72,
   "id": "111be592",
   "metadata": {},
   "outputs": [
    {
     "data": {
      "text/html": [
       "<div>\n",
       "<style scoped>\n",
       "    .dataframe tbody tr th:only-of-type {\n",
       "        vertical-align: middle;\n",
       "    }\n",
       "\n",
       "    .dataframe tbody tr th {\n",
       "        vertical-align: top;\n",
       "    }\n",
       "\n",
       "    .dataframe thead th {\n",
       "        text-align: right;\n",
       "    }\n",
       "</style>\n",
       "<table border=\"1\" class=\"dataframe\">\n",
       "  <thead>\n",
       "    <tr style=\"text-align: right;\">\n",
       "      <th></th>\n",
       "      <th>0</th>\n",
       "      <th>1</th>\n",
       "      <th>2</th>\n",
       "      <th>3</th>\n",
       "      <th>4</th>\n",
       "      <th>5</th>\n",
       "      <th>6</th>\n",
       "    </tr>\n",
       "  </thead>\n",
       "  <tbody>\n",
       "    <tr>\n",
       "      <th>0</th>\n",
       "      <td>2010-06-29</td>\n",
       "      <td>3.800000</td>\n",
       "      <td>5.000000</td>\n",
       "      <td>3.508000</td>\n",
       "      <td>4.778000</td>\n",
       "      <td>4.778000</td>\n",
       "      <td>93831500</td>\n",
       "    </tr>\n",
       "    <tr>\n",
       "      <th>1</th>\n",
       "      <td>2010-06-30</td>\n",
       "      <td>5.158000</td>\n",
       "      <td>6.084000</td>\n",
       "      <td>4.660000</td>\n",
       "      <td>4.766000</td>\n",
       "      <td>4.766000</td>\n",
       "      <td>85935500</td>\n",
       "    </tr>\n",
       "    <tr>\n",
       "      <th>2</th>\n",
       "      <td>2010-07-01</td>\n",
       "      <td>5.000000</td>\n",
       "      <td>5.184000</td>\n",
       "      <td>4.054000</td>\n",
       "      <td>4.392000</td>\n",
       "      <td>4.392000</td>\n",
       "      <td>41094000</td>\n",
       "    </tr>\n",
       "    <tr>\n",
       "      <th>3</th>\n",
       "      <td>2010-07-02</td>\n",
       "      <td>4.600000</td>\n",
       "      <td>4.620000</td>\n",
       "      <td>3.742000</td>\n",
       "      <td>3.840000</td>\n",
       "      <td>3.840000</td>\n",
       "      <td>25699000</td>\n",
       "    </tr>\n",
       "    <tr>\n",
       "      <th>4</th>\n",
       "      <td>2010-07-06</td>\n",
       "      <td>4.000000</td>\n",
       "      <td>4.000000</td>\n",
       "      <td>3.166000</td>\n",
       "      <td>3.222000</td>\n",
       "      <td>3.222000</td>\n",
       "      <td>34334500</td>\n",
       "    </tr>\n",
       "    <tr>\n",
       "      <th>...</th>\n",
       "      <td>...</td>\n",
       "      <td>...</td>\n",
       "      <td>...</td>\n",
       "      <td>...</td>\n",
       "      <td>...</td>\n",
       "      <td>...</td>\n",
       "      <td>...</td>\n",
       "    </tr>\n",
       "    <tr>\n",
       "      <th>3026</th>\n",
       "      <td>2022-07-07</td>\n",
       "      <td>701.760010</td>\n",
       "      <td>736.090027</td>\n",
       "      <td>696.630005</td>\n",
       "      <td>733.630005</td>\n",
       "      <td>733.630005</td>\n",
       "      <td>27310200</td>\n",
       "    </tr>\n",
       "    <tr>\n",
       "      <th>3027</th>\n",
       "      <td>2022-07-08</td>\n",
       "      <td>727.000000</td>\n",
       "      <td>764.940002</td>\n",
       "      <td>723.479980</td>\n",
       "      <td>752.289978</td>\n",
       "      <td>752.289978</td>\n",
       "      <td>33343700</td>\n",
       "    </tr>\n",
       "    <tr>\n",
       "      <th>3028</th>\n",
       "      <td>2022-07-11</td>\n",
       "      <td>756.309998</td>\n",
       "      <td>759.190002</td>\n",
       "      <td>700.880005</td>\n",
       "      <td>703.030029</td>\n",
       "      <td>703.030029</td>\n",
       "      <td>33080400</td>\n",
       "    </tr>\n",
       "    <tr>\n",
       "      <th>3029</th>\n",
       "      <td>2022-07-12</td>\n",
       "      <td>710.539978</td>\n",
       "      <td>719.320007</td>\n",
       "      <td>685.109985</td>\n",
       "      <td>699.210022</td>\n",
       "      <td>699.210022</td>\n",
       "      <td>29310300</td>\n",
       "    </tr>\n",
       "    <tr>\n",
       "      <th>3030</th>\n",
       "      <td>2022-07-13</td>\n",
       "      <td>676.500000</td>\n",
       "      <td>726.179993</td>\n",
       "      <td>675.099976</td>\n",
       "      <td>711.119995</td>\n",
       "      <td>711.119995</td>\n",
       "      <td>32651500</td>\n",
       "    </tr>\n",
       "  </tbody>\n",
       "</table>\n",
       "<p>3031 rows × 7 columns</p>\n",
       "</div>"
      ],
      "text/plain": [
       "               0           1           2           3           4           5  \\\n",
       "0     2010-06-29    3.800000    5.000000    3.508000    4.778000    4.778000   \n",
       "1     2010-06-30    5.158000    6.084000    4.660000    4.766000    4.766000   \n",
       "2     2010-07-01    5.000000    5.184000    4.054000    4.392000    4.392000   \n",
       "3     2010-07-02    4.600000    4.620000    3.742000    3.840000    3.840000   \n",
       "4     2010-07-06    4.000000    4.000000    3.166000    3.222000    3.222000   \n",
       "...          ...         ...         ...         ...         ...         ...   \n",
       "3026  2022-07-07  701.760010  736.090027  696.630005  733.630005  733.630005   \n",
       "3027  2022-07-08  727.000000  764.940002  723.479980  752.289978  752.289978   \n",
       "3028  2022-07-11  756.309998  759.190002  700.880005  703.030029  703.030029   \n",
       "3029  2022-07-12  710.539978  719.320007  685.109985  699.210022  699.210022   \n",
       "3030  2022-07-13  676.500000  726.179993  675.099976  711.119995  711.119995   \n",
       "\n",
       "             6  \n",
       "0     93831500  \n",
       "1     85935500  \n",
       "2     41094000  \n",
       "3     25699000  \n",
       "4     34334500  \n",
       "...        ...  \n",
       "3026  27310200  \n",
       "3027  33343700  \n",
       "3028  33080400  \n",
       "3029  29310300  \n",
       "3030  32651500  \n",
       "\n",
       "[3031 rows x 7 columns]"
      ]
     },
     "execution_count": 72,
     "metadata": {},
     "output_type": "execute_result"
    }
   ],
   "source": [
    "#We load the data\n",
    "Stock4=pd.read_csv(\"C:/Users/ra_me/Dropbox/Doc/17- Book - Introduction to Financial Mathematics/Python/Stock_NoHeader.csv\", \n",
    "                 header=None)\n",
    "\n",
    "#We show the stock's data on the screen\n",
    "Stock4"
   ]
  },
  {
   "cell_type": "markdown",
   "id": "8e5acd66",
   "metadata": {},
   "source": [
    "Data description"
   ]
  },
  {
   "cell_type": "code",
   "execution_count": 73,
   "id": "05199d36",
   "metadata": {},
   "outputs": [
    {
     "data": {
      "text/html": [
       "<div>\n",
       "<style scoped>\n",
       "    .dataframe tbody tr th:only-of-type {\n",
       "        vertical-align: middle;\n",
       "    }\n",
       "\n",
       "    .dataframe tbody tr th {\n",
       "        vertical-align: top;\n",
       "    }\n",
       "\n",
       "    .dataframe thead th {\n",
       "        text-align: right;\n",
       "    }\n",
       "</style>\n",
       "<table border=\"1\" class=\"dataframe\">\n",
       "  <thead>\n",
       "    <tr style=\"text-align: right;\">\n",
       "      <th></th>\n",
       "      <th>Open</th>\n",
       "      <th>High</th>\n",
       "      <th>Low</th>\n",
       "      <th>Close</th>\n",
       "      <th>Adj_Close</th>\n",
       "      <th>Volume</th>\n",
       "    </tr>\n",
       "  </thead>\n",
       "  <tbody>\n",
       "    <tr>\n",
       "      <th>count</th>\n",
       "      <td>3031.000000</td>\n",
       "      <td>3031.000000</td>\n",
       "      <td>3031.000000</td>\n",
       "      <td>3031.000000</td>\n",
       "      <td>3031.000000</td>\n",
       "      <td>3.031000e+03</td>\n",
       "    </tr>\n",
       "    <tr>\n",
       "      <th>mean</th>\n",
       "      <td>155.769667</td>\n",
       "      <td>159.302361</td>\n",
       "      <td>151.939550</td>\n",
       "      <td>155.724373</td>\n",
       "      <td>155.724373</td>\n",
       "      <td>3.125724e+07</td>\n",
       "    </tr>\n",
       "    <tr>\n",
       "      <th>std</th>\n",
       "      <td>270.297015</td>\n",
       "      <td>276.660612</td>\n",
       "      <td>263.185394</td>\n",
       "      <td>270.034479</td>\n",
       "      <td>270.034479</td>\n",
       "      <td>2.765770e+07</td>\n",
       "    </tr>\n",
       "    <tr>\n",
       "      <th>min</th>\n",
       "      <td>3.228000</td>\n",
       "      <td>3.326000</td>\n",
       "      <td>2.996000</td>\n",
       "      <td>3.160000</td>\n",
       "      <td>3.160000</td>\n",
       "      <td>5.925000e+05</td>\n",
       "    </tr>\n",
       "    <tr>\n",
       "      <th>25%</th>\n",
       "      <td>23.155000</td>\n",
       "      <td>23.953000</td>\n",
       "      <td>21.644999</td>\n",
       "      <td>23.242000</td>\n",
       "      <td>23.242000</td>\n",
       "      <td>1.355650e+07</td>\n",
       "    </tr>\n",
       "    <tr>\n",
       "      <th>50%</th>\n",
       "      <td>47.326000</td>\n",
       "      <td>48.299999</td>\n",
       "      <td>46.521999</td>\n",
       "      <td>47.518002</td>\n",
       "      <td>47.518002</td>\n",
       "      <td>2.519250e+07</td>\n",
       "    </tr>\n",
       "    <tr>\n",
       "      <th>75%</th>\n",
       "      <td>69.664001</td>\n",
       "      <td>70.661999</td>\n",
       "      <td>68.526997</td>\n",
       "      <td>69.591999</td>\n",
       "      <td>69.591999</td>\n",
       "      <td>3.947230e+07</td>\n",
       "    </tr>\n",
       "    <tr>\n",
       "      <th>max</th>\n",
       "      <td>1234.410034</td>\n",
       "      <td>1243.489990</td>\n",
       "      <td>1217.000000</td>\n",
       "      <td>1229.910034</td>\n",
       "      <td>1229.910034</td>\n",
       "      <td>3.046940e+08</td>\n",
       "    </tr>\n",
       "  </tbody>\n",
       "</table>\n",
       "</div>"
      ],
      "text/plain": [
       "              Open         High          Low        Close    Adj_Close  \\\n",
       "count  3031.000000  3031.000000  3031.000000  3031.000000  3031.000000   \n",
       "mean    155.769667   159.302361   151.939550   155.724373   155.724373   \n",
       "std     270.297015   276.660612   263.185394   270.034479   270.034479   \n",
       "min       3.228000     3.326000     2.996000     3.160000     3.160000   \n",
       "25%      23.155000    23.953000    21.644999    23.242000    23.242000   \n",
       "50%      47.326000    48.299999    46.521999    47.518002    47.518002   \n",
       "75%      69.664001    70.661999    68.526997    69.591999    69.591999   \n",
       "max    1234.410034  1243.489990  1217.000000  1229.910034  1229.910034   \n",
       "\n",
       "             Volume  \n",
       "count  3.031000e+03  \n",
       "mean   3.125724e+07  \n",
       "std    2.765770e+07  \n",
       "min    5.925000e+05  \n",
       "25%    1.355650e+07  \n",
       "50%    2.519250e+07  \n",
       "75%    3.947230e+07  \n",
       "max    3.046940e+08  "
      ]
     },
     "execution_count": 73,
     "metadata": {},
     "output_type": "execute_result"
    }
   ],
   "source": [
    "Stock.describe()"
   ]
  },
  {
   "cell_type": "markdown",
   "id": "cf4ae844",
   "metadata": {},
   "source": [
    "We can refer to each column by their name."
   ]
  },
  {
   "cell_type": "code",
   "execution_count": 74,
   "id": "c78efb40",
   "metadata": {},
   "outputs": [
    {
     "data": {
      "text/plain": [
       "0       2010-06-29\n",
       "1       2010-06-30\n",
       "2       2010-07-01\n",
       "3       2010-07-02\n",
       "4       2010-07-06\n",
       "           ...    \n",
       "3026    2022-07-07\n",
       "3027    2022-07-08\n",
       "3028    2022-07-11\n",
       "3029    2022-07-12\n",
       "3030    2022-07-13\n",
       "Name: Date, Length: 3031, dtype: object"
      ]
     },
     "execution_count": 74,
     "metadata": {},
     "output_type": "execute_result"
    }
   ],
   "source": [
    "Stock.Date"
   ]
  },
  {
   "cell_type": "markdown",
   "id": "42348272",
   "metadata": {},
   "source": [
    "Or to a specific point on the table"
   ]
  },
  {
   "cell_type": "code",
   "execution_count": 75,
   "id": "ab2e48b3",
   "metadata": {},
   "outputs": [
    {
     "data": {
      "text/plain": [
       "'2010-06-29'"
      ]
     },
     "execution_count": 75,
     "metadata": {},
     "output_type": "execute_result"
    }
   ],
   "source": [
    "Stock.Date[0]"
   ]
  },
  {
   "cell_type": "markdown",
   "id": "8028a1e5",
   "metadata": {},
   "source": [
    "We can do operations between columns."
   ]
  },
  {
   "cell_type": "code",
   "execution_count": 76,
   "id": "454d83ec",
   "metadata": {},
   "outputs": [
    {
     "data": {
      "text/plain": [
       "0         4.254000\n",
       "1         5.372000\n",
       "2         4.619000\n",
       "3         4.181000\n",
       "4         3.583000\n",
       "           ...    \n",
       "3026    716.360016\n",
       "3027    744.209991\n",
       "3028    730.035004\n",
       "3029    702.214996\n",
       "3030    700.639984\n",
       "Length: 3031, dtype: float64"
      ]
     },
     "execution_count": 76,
     "metadata": {},
     "output_type": "execute_result"
    }
   ],
   "source": [
    "(Stock.High+Stock.Low)/2  "
   ]
  },
  {
   "cell_type": "markdown",
   "id": "696e77d8",
   "metadata": {},
   "source": [
    "And include it in our dataframe"
   ]
  },
  {
   "cell_type": "code",
   "execution_count": 77,
   "id": "0e7f8044",
   "metadata": {},
   "outputs": [],
   "source": [
    "Stock.loc[:,'HighLow-Mid']=(Stock.High+Stock.Low)/2 "
   ]
  },
  {
   "cell_type": "code",
   "execution_count": 78,
   "id": "e500b356",
   "metadata": {},
   "outputs": [
    {
     "data": {
      "text/html": [
       "<div>\n",
       "<style scoped>\n",
       "    .dataframe tbody tr th:only-of-type {\n",
       "        vertical-align: middle;\n",
       "    }\n",
       "\n",
       "    .dataframe tbody tr th {\n",
       "        vertical-align: top;\n",
       "    }\n",
       "\n",
       "    .dataframe thead th {\n",
       "        text-align: right;\n",
       "    }\n",
       "</style>\n",
       "<table border=\"1\" class=\"dataframe\">\n",
       "  <thead>\n",
       "    <tr style=\"text-align: right;\">\n",
       "      <th></th>\n",
       "      <th>Date</th>\n",
       "      <th>Open</th>\n",
       "      <th>High</th>\n",
       "      <th>Low</th>\n",
       "      <th>Close</th>\n",
       "      <th>Adj_Close</th>\n",
       "      <th>Volume</th>\n",
       "      <th>HighLow-Mid</th>\n",
       "    </tr>\n",
       "  </thead>\n",
       "  <tbody>\n",
       "    <tr>\n",
       "      <th>0</th>\n",
       "      <td>2010-06-29</td>\n",
       "      <td>3.800000</td>\n",
       "      <td>5.000000</td>\n",
       "      <td>3.508000</td>\n",
       "      <td>4.778000</td>\n",
       "      <td>4.778000</td>\n",
       "      <td>93831500</td>\n",
       "      <td>4.254000</td>\n",
       "    </tr>\n",
       "    <tr>\n",
       "      <th>1</th>\n",
       "      <td>2010-06-30</td>\n",
       "      <td>5.158000</td>\n",
       "      <td>6.084000</td>\n",
       "      <td>4.660000</td>\n",
       "      <td>4.766000</td>\n",
       "      <td>4.766000</td>\n",
       "      <td>85935500</td>\n",
       "      <td>5.372000</td>\n",
       "    </tr>\n",
       "    <tr>\n",
       "      <th>2</th>\n",
       "      <td>2010-07-01</td>\n",
       "      <td>5.000000</td>\n",
       "      <td>5.184000</td>\n",
       "      <td>4.054000</td>\n",
       "      <td>4.392000</td>\n",
       "      <td>4.392000</td>\n",
       "      <td>41094000</td>\n",
       "      <td>4.619000</td>\n",
       "    </tr>\n",
       "    <tr>\n",
       "      <th>3</th>\n",
       "      <td>2010-07-02</td>\n",
       "      <td>4.600000</td>\n",
       "      <td>4.620000</td>\n",
       "      <td>3.742000</td>\n",
       "      <td>3.840000</td>\n",
       "      <td>3.840000</td>\n",
       "      <td>25699000</td>\n",
       "      <td>4.181000</td>\n",
       "    </tr>\n",
       "    <tr>\n",
       "      <th>4</th>\n",
       "      <td>2010-07-06</td>\n",
       "      <td>4.000000</td>\n",
       "      <td>4.000000</td>\n",
       "      <td>3.166000</td>\n",
       "      <td>3.222000</td>\n",
       "      <td>3.222000</td>\n",
       "      <td>34334500</td>\n",
       "      <td>3.583000</td>\n",
       "    </tr>\n",
       "    <tr>\n",
       "      <th>...</th>\n",
       "      <td>...</td>\n",
       "      <td>...</td>\n",
       "      <td>...</td>\n",
       "      <td>...</td>\n",
       "      <td>...</td>\n",
       "      <td>...</td>\n",
       "      <td>...</td>\n",
       "      <td>...</td>\n",
       "    </tr>\n",
       "    <tr>\n",
       "      <th>3026</th>\n",
       "      <td>2022-07-07</td>\n",
       "      <td>701.760010</td>\n",
       "      <td>736.090027</td>\n",
       "      <td>696.630005</td>\n",
       "      <td>733.630005</td>\n",
       "      <td>733.630005</td>\n",
       "      <td>27310200</td>\n",
       "      <td>716.360016</td>\n",
       "    </tr>\n",
       "    <tr>\n",
       "      <th>3027</th>\n",
       "      <td>2022-07-08</td>\n",
       "      <td>727.000000</td>\n",
       "      <td>764.940002</td>\n",
       "      <td>723.479980</td>\n",
       "      <td>752.289978</td>\n",
       "      <td>752.289978</td>\n",
       "      <td>33343700</td>\n",
       "      <td>744.209991</td>\n",
       "    </tr>\n",
       "    <tr>\n",
       "      <th>3028</th>\n",
       "      <td>2022-07-11</td>\n",
       "      <td>756.309998</td>\n",
       "      <td>759.190002</td>\n",
       "      <td>700.880005</td>\n",
       "      <td>703.030029</td>\n",
       "      <td>703.030029</td>\n",
       "      <td>33080400</td>\n",
       "      <td>730.035004</td>\n",
       "    </tr>\n",
       "    <tr>\n",
       "      <th>3029</th>\n",
       "      <td>2022-07-12</td>\n",
       "      <td>710.539978</td>\n",
       "      <td>719.320007</td>\n",
       "      <td>685.109985</td>\n",
       "      <td>699.210022</td>\n",
       "      <td>699.210022</td>\n",
       "      <td>29310300</td>\n",
       "      <td>702.214996</td>\n",
       "    </tr>\n",
       "    <tr>\n",
       "      <th>3030</th>\n",
       "      <td>2022-07-13</td>\n",
       "      <td>676.500000</td>\n",
       "      <td>726.179993</td>\n",
       "      <td>675.099976</td>\n",
       "      <td>711.119995</td>\n",
       "      <td>711.119995</td>\n",
       "      <td>32651500</td>\n",
       "      <td>700.639984</td>\n",
       "    </tr>\n",
       "  </tbody>\n",
       "</table>\n",
       "<p>3031 rows × 8 columns</p>\n",
       "</div>"
      ],
      "text/plain": [
       "            Date        Open        High         Low       Close   Adj_Close  \\\n",
       "0     2010-06-29    3.800000    5.000000    3.508000    4.778000    4.778000   \n",
       "1     2010-06-30    5.158000    6.084000    4.660000    4.766000    4.766000   \n",
       "2     2010-07-01    5.000000    5.184000    4.054000    4.392000    4.392000   \n",
       "3     2010-07-02    4.600000    4.620000    3.742000    3.840000    3.840000   \n",
       "4     2010-07-06    4.000000    4.000000    3.166000    3.222000    3.222000   \n",
       "...          ...         ...         ...         ...         ...         ...   \n",
       "3026  2022-07-07  701.760010  736.090027  696.630005  733.630005  733.630005   \n",
       "3027  2022-07-08  727.000000  764.940002  723.479980  752.289978  752.289978   \n",
       "3028  2022-07-11  756.309998  759.190002  700.880005  703.030029  703.030029   \n",
       "3029  2022-07-12  710.539978  719.320007  685.109985  699.210022  699.210022   \n",
       "3030  2022-07-13  676.500000  726.179993  675.099976  711.119995  711.119995   \n",
       "\n",
       "        Volume  HighLow-Mid  \n",
       "0     93831500     4.254000  \n",
       "1     85935500     5.372000  \n",
       "2     41094000     4.619000  \n",
       "3     25699000     4.181000  \n",
       "4     34334500     3.583000  \n",
       "...        ...          ...  \n",
       "3026  27310200   716.360016  \n",
       "3027  33343700   744.209991  \n",
       "3028  33080400   730.035004  \n",
       "3029  29310300   702.214996  \n",
       "3030  32651500   700.639984  \n",
       "\n",
       "[3031 rows x 8 columns]"
      ]
     },
     "execution_count": 78,
     "metadata": {},
     "output_type": "execute_result"
    }
   ],
   "source": [
    "Stock"
   ]
  },
  {
   "cell_type": "markdown",
   "id": "176b57a0",
   "metadata": {},
   "source": [
    "If we want to calculate the return of a stock, we can use the property 'shift' which allow us to put in the same row the prices of two consecutive days."
   ]
  },
  {
   "cell_type": "code",
   "execution_count": 79,
   "id": "4ec387b2",
   "metadata": {},
   "outputs": [
    {
     "data": {
      "text/plain": [
       "0            NaN\n",
       "1      -0.002512\n",
       "2      -0.078473\n",
       "3      -0.125683\n",
       "4      -0.160937\n",
       "          ...   \n",
       "3026    0.055279\n",
       "3027    0.025435\n",
       "3028   -0.065480\n",
       "3029   -0.005434\n",
       "3030    0.017033\n",
       "Name: Close, Length: 3031, dtype: float64"
      ]
     },
     "execution_count": 79,
     "metadata": {},
     "output_type": "execute_result"
    }
   ],
   "source": [
    "Stock.Close/Stock.Close.shift(1)-1"
   ]
  },
  {
   "cell_type": "code",
   "execution_count": 112,
   "id": "94cc5e0b",
   "metadata": {},
   "outputs": [],
   "source": [
    "Stock.loc[:,'Return']=Stock.Close/Stock.Close.shift(1)-1"
   ]
  },
  {
   "cell_type": "markdown",
   "id": "efefec83",
   "metadata": {},
   "source": [
    "## Make a plot"
   ]
  },
  {
   "cell_type": "code",
   "execution_count": 84,
   "id": "13655366",
   "metadata": {},
   "outputs": [
    {
     "data": {
      "image/png": "[encoded data removed]",
      "text/plain": [
       "<Figure size 432x288 with 1 Axes>"
      ]
     },
     "metadata": {
      "needs_background": "light"
     },
     "output_type": "display_data"
    }
   ],
   "source": [
    "#Import Package to do Plots\n",
    "import matplotlib.pyplot as plt \n",
    "\n",
    "#We write a Title for the Plot\n",
    "plt.title('Prices of Stock') \n",
    "\n",
    "#We write a x-axis label\n",
    "plt.xlabel('Date')\n",
    "\n",
    "#We write a y-axis label\n",
    "plt.ylabel('Price')\n",
    "\n",
    "#Do the Plot    \n",
    "plt.plot(pd.to_datetime(Stock.Date),Stock.Adj_Close, 'k')\n",
    "plt.savefig('C:/Users/ra_me/Dropbox/Doc/17- Book - Introduction to Financial Mathematics/gfx/A-Python/Stock_Little.eps', format='eps', bbox_inches='tight', pad_inches=0)\n",
    "\n",
    "#Show the Plot\n",
    "plt.show()"
   ]
  },
  {
   "cell_type": "code",
   "execution_count": 86,
   "id": "355a2ecd",
   "metadata": {},
   "outputs": [
    {
     "data": {
      "image/png": "[encoded data removed]",
      "text/plain": [
       "<Figure size 720x360 with 1 Axes>"
      ]
     },
     "metadata": {
      "needs_background": "light"
     },
     "output_type": "display_data"
    }
   ],
   "source": [
    "#Import Package to do Plots\n",
    "import matplotlib.pyplot as plt \n",
    "\n",
    "#Modify the lenght and the width\n",
    "plt.figure(figsize =(15,5))\n",
    "\n",
    "#We write a Title for the Plot\n",
    "plt.title('Prices of Stock') \n",
    "\n",
    "#We write a x-axis label\n",
    "plt.xlabel('Date')\n",
    "\n",
    "#We write a y-axis label\n",
    "plt.ylabel('Price')\n",
    "\n",
    "#Do the Plot    \n",
    "plt.plot(pd.to_datetime(Stock.Date),Stock.Adj_Close, 'k')\n",
    "#plt.savefig('C:/Users/ra_me/Dropbox/Doc/17- Book - Introduction to Financial Mathematics/gfx/A-Python/Stock.eps', format='eps', bbox_inches='tight', pad_inches=0)\n",
    "\n",
    "\n",
    "#Show the Plot\n",
    "plt.show()"
   ]
  },
  {
   "cell_type": "code",
   "execution_count": 116,
   "id": "934f927d",
   "metadata": {},
   "outputs": [
    {
     "data": {
      "image/png": "[encoded data removed]",
      "text/plain": [
       "<Figure size 720x360 with 1 Axes>"
      ]
     },
     "metadata": {},
     "output_type": "display_data"
    }
   ],
   "source": [
    "#Import Package to do Plots\n",
    "import matplotlib.pyplot as plt \n",
    "\n",
    "#Modify the lenght and the width\n",
    "plt.figure(figsize =(10,5))\n",
    "\n",
    "#We write a Title for the Plot\n",
    "plt.title('Prices of Stock') \n",
    "\n",
    "#We write a x-axis label\n",
    "plt.xlabel('Date')\n",
    "\n",
    "#We write a y-axis label\n",
    "plt.ylabel('Price')\n",
    "\n",
    "#Plot the 1st time serie.\n",
    "plt.plot(pd.to_datetime(Stock.Date),Stock.Adj_Close,label=\"Close\")\n",
    "\n",
    "#Plot the 2nd time serie.\n",
    "plt.plot(pd.to_datetime(Stock.Date),0.5*Stock.Adj_Close, \n",
    "         label=\"50% Close\")\n",
    "\n",
    "#Put the label on the best plot position\n",
    "plt.legend(loc=\"best\")\n",
    "\n",
    "#plt.savefig('C:/Users/ra_me/Dropbox/Doc/17- Book - Introduction to Financial Mathematics/gfx/A-Python/2Stocks.eps', format='eps', bbox_inches='tight', pad_inches=0)\n",
    "\n",
    "#Show the Plot\n",
    "plt.show()"
   ]
  },
  {
   "cell_type": "code",
   "execution_count": 108,
   "id": "a9add18a",
   "metadata": {},
   "outputs": [
    {
     "data": {
      "image/png": "[encoded data removed]",
      "text/plain": [
       "<Figure size 1080x360 with 2 Axes>"
      ]
     },
     "metadata": {
      "needs_background": "light"
     },
     "output_type": "display_data"
    }
   ],
   "source": [
    "#Import Package to do Plots\n",
    "import matplotlib.pyplot as plt \n",
    "\n",
    "#Modify the lenght and the width\n",
    "plt.figure(figsize =(15,5))\n",
    "\n",
    "#We do a column with two plots. Here is the 1st.\n",
    "plt.subplot(1,2,1)\n",
    "\n",
    "#We write a Title for the Plot\n",
    "plt.title('Prices of Stock') \n",
    "\n",
    "#We write a x-axis label\n",
    "plt.xlabel('Date')\n",
    "\n",
    "#We write a y-axis label\n",
    "plt.ylabel('Price')\n",
    "\n",
    "#Plot the 1st time serie\n",
    "plt.plot(pd.to_datetime(Stock.Date),Stock.Adj_Close, '.', label=\"Close\")\n",
    "\n",
    "#Put the label on the best plot position\n",
    "plt.legend(loc=\"best\")\n",
    "\n",
    "#Here is the 2nd.\n",
    "plt.subplot(1,2,2)\n",
    "\n",
    "#Plot the 2nd time serie\n",
    "plt.plot(pd.to_datetime(Stock.Date),0.8*Stock.Adj_Close,'--', label=\"80% Close\")\n",
    "\n",
    "#Put the label on the best plot position\n",
    "plt.legend(loc=\"best\")\n",
    "\n",
    "#plt.savefig('C:/Users/ra_me/Dropbox/Doc/17- Book - Introduction to Financial Mathematics/gfx/A-Python/ExampleSubplot.eps', format='eps', bbox_inches='tight', pad_inches=0)\n",
    "\n",
    "#Show the Plot\n",
    "plt.show()"
   ]
  },
  {
   "cell_type": "code",
   "execution_count": 115,
   "id": "1c5e71d9",
   "metadata": {},
   "outputs": [
    {
     "data": {
      "image/png": "[encoded data removed]",
      "text/plain": [
       "<Figure size 1080x504 with 1 Axes>"
      ]
     },
     "metadata": {},
     "output_type": "display_data"
    }
   ],
   "source": [
    "#We import the package to do plots\n",
    "import matplotlib.pyplot as plt\n",
    "\n",
    "\n",
    "#We set the plot size\n",
    "fig = plt.figure(figsize=(15,7))\n",
    "\n",
    "#We define a cool plot style\n",
    "plt.style.use('seaborn-white')\n",
    "\n",
    "#We will do 50 bins\n",
    "nbins=50;\n",
    "\n",
    "#We do the histogram skipping the NA values.\n",
    "plt.hist(Stock.Return.dropna(), bins=nbins, color = 'gray', edgecolor = 'black')\n",
    "\n",
    "#plt.savefig('C:/Users/ra_me/Dropbox/Doc/17- Book - Introduction to Financial Mathematics/gfx/A-Python/Histogram.eps', format='eps', bbox_inches='tight', pad_inches=0)\n",
    "\n",
    "#We do the plot\n",
    "plt.show()"
   ]
  }
 ],
 "metadata": {
  "kernelspec": {
   "display_name": "Python 3",
   "language": "python",
   "name": "python3"
  },
  "language_info": {
   "codemirror_mode": {
    "name": "ipython",
    "version": 3
   },
   "file_extension": ".py",
   "mimetype": "text/x-python",
   "name": "python",
   "nbconvert_exporter": "python",
   "pygments_lexer": "ipython3",
   "version": "3.7.6"
  }
 },
 "nbformat": 4,
 "nbformat_minor": 5
}
