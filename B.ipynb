{
 "cells": [
  {
   "cell_type": "markdown",
   "id": "69dd3642",
   "metadata": {},
   "source": [
    "## Define your own functions"
   ]
  },
  {
   "cell_type": "markdown",
   "id": "0c2159a3",
   "metadata": {},
   "source": [
    "The most basic example"
   ]
  },
  {
   "cell_type": "code",
   "execution_count": 15,
   "id": "e2e1f278",
   "metadata": {},
   "outputs": [],
   "source": [
    "def say_hello():\n",
    "\n",
    "    #This function says Hello!\n",
    "    print(\"Hello\")"
   ]
  },
  {
   "cell_type": "code",
   "execution_count": 16,
   "id": "b3026dc1",
   "metadata": {},
   "outputs": [
    {
     "name": "stdout",
     "output_type": "stream",
     "text": [
      "Hello\n"
     ]
    }
   ],
   "source": [
    "say_hello()"
   ]
  },
  {
   "cell_type": "markdown",
   "id": "5acf13a1",
   "metadata": {},
   "source": [
    "A function with one varible"
   ]
  },
  {
   "cell_type": "code",
   "execution_count": 27,
   "id": "54d59607",
   "metadata": {},
   "outputs": [],
   "source": [
    "def say_hello(name):\n",
    "\n",
    "    #This function says Hello and the value on the local variable \"name\"\n",
    "\n",
    "    print(\"Hello\" , name , \"!\")"
   ]
  },
  {
   "cell_type": "code",
   "execution_count": 28,
   "id": "1fc21333",
   "metadata": {},
   "outputs": [
    {
     "name": "stdout",
     "output_type": "stream",
     "text": [
      "Hello Adele !\n"
     ]
    }
   ],
   "source": [
    "say_hello(\"Adele\")"
   ]
  },
  {
   "cell_type": "markdown",
   "id": "f78599f7",
   "metadata": {},
   "source": [
    "A function with two varibles"
   ]
  },
  {
   "cell_type": "code",
   "execution_count": 25,
   "id": "5b67881a",
   "metadata": {},
   "outputs": [],
   "source": [
    "def say_hello(name, surname):\n",
    "\n",
    "    #This function says Hello and the value on the local variables: \"name\" and \"surname\"\n",
    "\n",
    "    print(\"Hello\" , name , surname, \"!\")"
   ]
  },
  {
   "cell_type": "code",
   "execution_count": 24,
   "id": "b7470774",
   "metadata": {},
   "outputs": [
    {
     "name": "stdout",
     "output_type": "stream",
     "text": [
      "Hello Adele Smith  !\n"
     ]
    }
   ],
   "source": [
    "say_hello(\"Adele\", \"Smith\")"
   ]
  },
  {
   "cell_type": "markdown",
   "id": "949cdae2",
   "metadata": {},
   "source": [
    "## If Clause"
   ]
  },
  {
   "cell_type": "markdown",
   "id": "36539667",
   "metadata": {},
   "source": [
    "Conditionals are a very useful tool for coding. \n",
    "It helps us separate different situations or coding flows."
   ]
  },
  {
   "cell_type": "code",
   "execution_count": 29,
   "id": "35f06fe1",
   "metadata": {},
   "outputs": [],
   "source": [
    "def is_positive(number):\n",
    "    #This function tells you if a number is positive\n",
    "\n",
    "    if number > 0:\n",
    "        print(\"The \", number, \" is a positive number.\")\n",
    "    print(\"This is always printed.\")"
   ]
  },
  {
   "cell_type": "code",
   "execution_count": 30,
   "id": "55050c5a",
   "metadata": {},
   "outputs": [
    {
     "name": "stdout",
     "output_type": "stream",
     "text": [
      "The  5  is a positive number.\n",
      "This is always printed.\n"
     ]
    }
   ],
   "source": [
    "is_positive(5)"
   ]
  },
  {
   "cell_type": "code",
   "execution_count": 31,
   "id": "9cdb7f3f",
   "metadata": {},
   "outputs": [
    {
     "name": "stdout",
     "output_type": "stream",
     "text": [
      "This is always printed.\n"
     ]
    }
   ],
   "source": [
    "is_positive(-1)"
   ]
  },
  {
   "cell_type": "markdown",
   "id": "9cffde0c",
   "metadata": {},
   "source": [
    "We can complete the if clause by adding the else condition. \n",
    "If the if clause is false, the code will continue in the else block"
   ]
  },
  {
   "cell_type": "code",
   "execution_count": 33,
   "id": "22cbf703",
   "metadata": {},
   "outputs": [],
   "source": [
    "def sign(number):\n",
    "    #This function tells you if a number is positive or negative\n",
    "\n",
    "    if number >= 0:\n",
    "        print(\"The \", number, \" is a positive number or zero.\")\n",
    "    else:\n",
    "        print(\"The \", number, \" is a negative number.\")\n",
    "    print(\"This is always printed.\")"
   ]
  },
  {
   "cell_type": "markdown",
   "id": "11a21a38",
   "metadata": {},
   "source": [
    "Sometimes we want to add more than two options in our code, so we need to use the elif clause.\n",
    "First of all, we will see if the condition is true. If it is false, the code will evaluate the elif conditions. If the elif condition is true, the code will evaluate that block. If all the conditions are false, it will evaluate the else block."
   ]
  },
  {
   "cell_type": "code",
   "execution_count": 3,
   "id": "f64ce098",
   "metadata": {},
   "outputs": [],
   "source": [
    "def sign(number):\n",
    "\n",
    "    #This function tells you if a number is positive, negative or zero\n",
    "\n",
    "    if number > 0:\n",
    "        print(\"The \", number, \" is a positive number or zero.\")\n",
    "    elif number==0:\n",
    "        print(\"This is zero!\")\n",
    "    else:\n",
    "        print(\"The \", number, \" is a negative number.\")\n",
    "    print(\"This is always printed.\")"
   ]
  },
  {
   "cell_type": "code",
   "execution_count": 4,
   "id": "36265840",
   "metadata": {},
   "outputs": [
    {
     "name": "stdout",
     "output_type": "stream",
     "text": [
      "The  5  is a positive number or zero.\n",
      "This is always printed.\n"
     ]
    }
   ],
   "source": [
    "sign(5)"
   ]
  },
  {
   "cell_type": "code",
   "execution_count": 5,
   "id": "2c0d0cc5",
   "metadata": {},
   "outputs": [
    {
     "name": "stdout",
     "output_type": "stream",
     "text": [
      "The  -1  is a negative number.\n",
      "This is always printed.\n"
     ]
    }
   ],
   "source": [
    "sign(-1)"
   ]
  },
  {
   "cell_type": "code",
   "execution_count": 6,
   "id": "d9498002",
   "metadata": {},
   "outputs": [
    {
     "name": "stdout",
     "output_type": "stream",
     "text": [
      "This is zero!\n",
      "This is always printed.\n"
     ]
    }
   ],
   "source": [
    "sign(0)"
   ]
  },
  {
   "cell_type": "markdown",
   "id": "437c4207",
   "metadata": {},
   "source": [
    "## For Clause"
   ]
  },
  {
   "cell_type": "markdown",
   "id": "b1487771",
   "metadata": {},
   "source": [
    "We learned to count when we were children. The for loop is very convenient for counting, but also for moving through the positions of vectors and matrices."
   ]
  },
  {
   "cell_type": "code",
   "execution_count": 7,
   "id": "83dfd930",
   "metadata": {},
   "outputs": [],
   "source": [
    "def counting(start, stop):\n",
    "\n",
    "    #This function counts from start to stop (not included)\n",
    "\n",
    "    for i in range(start, stop):\n",
    "        print(i)\n",
    "    print(\"This is always printed.\")"
   ]
  },
  {
   "cell_type": "code",
   "execution_count": 8,
   "id": "a24d8c4b",
   "metadata": {},
   "outputs": [
    {
     "name": "stdout",
     "output_type": "stream",
     "text": [
      "1\n",
      "2\n",
      "3\n",
      "4\n",
      "This is always printed.\n"
     ]
    }
   ],
   "source": [
    "counting(1, 5)"
   ]
  },
  {
   "cell_type": "markdown",
   "id": "ddfe2fdb",
   "metadata": {},
   "source": [
    "A practical example of how to use the for clause to do a calculation such as the factorial."
   ]
  },
  {
   "cell_type": "code",
   "execution_count": 10,
   "id": "5d6a76ff",
   "metadata": {},
   "outputs": [],
   "source": [
    "def factorial(n):\n",
    "\n",
    "    #This function calculates the factorial\n",
    "\n",
    "    #The initialise the variable factorial\n",
    "    factorial=1;\n",
    "\n",
    "    #By using the for iteratively, we compute the factorial\n",
    "    for i in range(2,n+1):\n",
    "        factorial=factorial*i\n",
    "\n",
    "    print(factorial)\n"
   ]
  },
  {
   "cell_type": "code",
   "execution_count": 11,
   "id": "33cd30fa",
   "metadata": {},
   "outputs": [
    {
     "name": "stdout",
     "output_type": "stream",
     "text": [
      "6\n"
     ]
    }
   ],
   "source": [
    "factorial(3)"
   ]
  },
  {
   "cell_type": "code",
   "execution_count": 12,
   "id": "686249a9",
   "metadata": {},
   "outputs": [
    {
     "name": "stdout",
     "output_type": "stream",
     "text": [
      "3628800\n"
     ]
    }
   ],
   "source": [
    "factorial(10)"
   ]
  },
  {
   "cell_type": "markdown",
   "id": "3febf74b",
   "metadata": {},
   "source": [
    "## Matrices"
   ]
  },
  {
   "cell_type": "markdown",
   "id": "82c9ec27",
   "metadata": {},
   "source": [
    "We create a Matrix as a list of list, i.e. vector by vector"
   ]
  },
  {
   "cell_type": "code",
   "execution_count": 14,
   "id": "5ee1fb3a",
   "metadata": {},
   "outputs": [],
   "source": [
    "A = [[1, 2, 3], \n",
    "    [-4, -5, -6],\n",
    "    [7, 8, 9]]"
   ]
  },
  {
   "cell_type": "markdown",
   "id": "3992159d",
   "metadata": {},
   "source": [
    "We can print the whole structure"
   ]
  },
  {
   "cell_type": "code",
   "execution_count": 16,
   "id": "0e9c3762",
   "metadata": {},
   "outputs": [
    {
     "name": "stdout",
     "output_type": "stream",
     "text": [
      "A = [[1, 2, 3], [-4, -5, -6], [7, 8, 9]]\n"
     ]
    }
   ],
   "source": [
    "print(\"A =\", A) "
   ]
  },
  {
   "cell_type": "markdown",
   "id": "61c8c28b",
   "metadata": {},
   "source": [
    "Chose the 2nd row"
   ]
  },
  {
   "cell_type": "code",
   "execution_count": 17,
   "id": "19daba2b",
   "metadata": {},
   "outputs": [
    {
     "name": "stdout",
     "output_type": "stream",
     "text": [
      "A[1] = [-4, -5, -6]\n"
     ]
    }
   ],
   "source": [
    "print(\"A[1] =\", A[1])"
   ]
  },
  {
   "cell_type": "markdown",
   "id": "d30d6cb7",
   "metadata": {},
   "source": [
    "Chose an element, for example, 3rd element 3rd row"
   ]
  },
  {
   "cell_type": "code",
   "execution_count": 18,
   "id": "df144043",
   "metadata": {},
   "outputs": [
    {
     "name": "stdout",
     "output_type": "stream",
     "text": [
      "A[2][2] = 9\n"
     ]
    }
   ],
   "source": [
    "print(\"A[2][2] =\", A[2][2])"
   ]
  },
  {
   "cell_type": "markdown",
   "id": "3f7c89a4",
   "metadata": {},
   "source": [
    "Chose the last element of the 2nd row"
   ]
  },
  {
   "cell_type": "code",
   "execution_count": 19,
   "id": "ed62bbc6",
   "metadata": {},
   "outputs": [
    {
     "name": "stdout",
     "output_type": "stream",
     "text": [
      "A[0][-1] = -6\n"
     ]
    }
   ],
   "source": [
    "print(\"A[0][-1] =\", A[1][-1])"
   ]
  },
  {
   "cell_type": "markdown",
   "id": "6915246c",
   "metadata": {},
   "source": [
    "We create a new empty list"
   ]
  },
  {
   "cell_type": "code",
   "execution_count": 20,
   "id": "7f99a6a9",
   "metadata": {},
   "outputs": [],
   "source": [
    "column = [];        \n",
    "for row in A:\n",
    "    \n",
    "    #We allocate the second column row by row\n",
    "    column.append(row[2]) "
   ]
  },
  {
   "cell_type": "markdown",
   "id": "a3fca949",
   "metadata": {},
   "source": [
    "We print the 3rd column"
   ]
  },
  {
   "cell_type": "code",
   "execution_count": 21,
   "id": "87ef6a4d",
   "metadata": {},
   "outputs": [
    {
     "name": "stdout",
     "output_type": "stream",
     "text": [
      "3rd column = [3, -6, 9]\n"
     ]
    }
   ],
   "source": [
    "print(\"3rd column =\", column)"
   ]
  },
  {
   "cell_type": "markdown",
   "id": "36c99080",
   "metadata": {},
   "source": [
    "-- We can use numpy to create numerical matrices"
   ]
  },
  {
   "cell_type": "code",
   "execution_count": 23,
   "id": "d5508b90",
   "metadata": {},
   "outputs": [],
   "source": [
    "#Load numpy package\n",
    "import numpy as np\n",
    "\n",
    "#Create an array\n",
    "A = np.array([[1, 2, 3], \n",
    "    [-4, -5, -6],\n",
    "    [7, 8, 9]])"
   ]
  },
  {
   "cell_type": "markdown",
   "id": "8e4d57b8",
   "metadata": {},
   "source": [
    "Print the matrix"
   ]
  },
  {
   "cell_type": "code",
   "execution_count": 24,
   "id": "af4e5739",
   "metadata": {},
   "outputs": [
    {
     "name": "stdout",
     "output_type": "stream",
     "text": [
      "A= [[ 1  2  3]\n",
      " [-4 -5 -6]\n",
      " [ 7  8  9]]\n"
     ]
    }
   ],
   "source": [
    "print(\"A=\",A)"
   ]
  },
  {
   "cell_type": "markdown",
   "id": "38c16535",
   "metadata": {},
   "source": [
    "Print the second column"
   ]
  },
  {
   "cell_type": "code",
   "execution_count": 25,
   "id": "8a349fc2",
   "metadata": {},
   "outputs": [
    {
     "name": "stdout",
     "output_type": "stream",
     "text": [
      "2nd column [ 2 -5  8]\n"
     ]
    }
   ],
   "source": [
    "print(\"2nd column\", A[:,1])"
   ]
  },
  {
   "cell_type": "markdown",
   "id": "4ac34cac",
   "metadata": {},
   "source": [
    "-- With Numpy, we can create a matrix full of zeros"
   ]
  },
  {
   "cell_type": "code",
   "execution_count": 26,
   "id": "d7fec180",
   "metadata": {},
   "outputs": [
    {
     "name": "stdout",
     "output_type": "stream",
     "text": [
      "A= [[0. 0. 0.]\n",
      " [0. 0. 0.]\n",
      " [0. 0. 0.]]\n"
     ]
    }
   ],
   "source": [
    "#Load numpy package\n",
    "import numpy as np\n",
    "\n",
    "#Create matrix full of zeros\n",
    "A = np.zeros((3,3))\n",
    "\n",
    "#Print the matrix\n",
    "print(\"A=\",A)"
   ]
  },
  {
   "cell_type": "markdown",
   "id": "9a45dba2",
   "metadata": {},
   "source": [
    "Or full of ones"
   ]
  },
  {
   "cell_type": "code",
   "execution_count": 27,
   "id": "2987585e",
   "metadata": {},
   "outputs": [
    {
     "name": "stdout",
     "output_type": "stream",
     "text": [
      "A= [[1. 1. 1.]\n",
      " [1. 1. 1.]\n",
      " [1. 1. 1.]]\n"
     ]
    }
   ],
   "source": [
    "#Load numpy package\n",
    "import numpy as np\n",
    "\n",
    "#Create matrix full of ones\n",
    "A = np.ones((3,3))\n",
    "\n",
    "#Print the matrix\n",
    "print(\"A=\",A)"
   ]
  },
  {
   "cell_type": "markdown",
   "id": "99deaba0",
   "metadata": {},
   "source": [
    "Or just ones in the diagonal"
   ]
  },
  {
   "cell_type": "code",
   "execution_count": 28,
   "id": "b557c4e9",
   "metadata": {},
   "outputs": [
    {
     "name": "stdout",
     "output_type": "stream",
     "text": [
      "B= [[1. 0. 0.]\n",
      " [0. 1. 0.]\n",
      " [0. 0. 1.]]\n"
     ]
    }
   ],
   "source": [
    "#Create matrix with ones on the diagonal\n",
    "B = np.diag(np.ones(3))  \n",
    "\n",
    "#Print the matrix\n",
    "print(\"B=\",B)"
   ]
  },
  {
   "cell_type": "markdown",
   "id": "1cf7ed13",
   "metadata": {},
   "source": [
    "An example to fill an array with different values"
   ]
  },
  {
   "cell_type": "code",
   "execution_count": 29,
   "id": "0f4404cc",
   "metadata": {},
   "outputs": [
    {
     "name": "stdout",
     "output_type": "stream",
     "text": [
      "A= [[0. 0. 0. 0.]\n",
      " [0. 0. 0. 0.]\n",
      " [0. 0. 0. 0.]]\n",
      "The matrix shape is (3, 4)\n",
      "A= [[ 1.  2.  3.  4.]\n",
      " [ 5.  6.  7.  8.]\n",
      " [ 9. 10. 11. 12.]]\n"
     ]
    }
   ],
   "source": [
    "#Load numpy package\n",
    "import numpy as np\n",
    "\n",
    "#Create matrix full of ones\n",
    "A = np.zeros((3,4))\n",
    "\n",
    "#Print the matrix\n",
    "print(\"A=\",A)\n",
    "\n",
    "#Print the shape of the matrix\n",
    "print(\"The matrix shape is\", A.shape)\n",
    "\n",
    "#We define the variable count\n",
    "count=1\n",
    "\n",
    "#For each row\n",
    "for i in range(0, A.shape[0]):\n",
    "    \n",
    "    #For each position\n",
    "    for j in range(0, A.shape[1]):\n",
    "        \n",
    "        #Write in the position [i,j] the variable count\n",
    "        A[i,j]=count\n",
    "        \n",
    "        #Sum 1 to count\n",
    "        count=count+1\n",
    "\n",
    "#Print the matrix\n",
    "print(\"A=\",A)"
   ]
  },
  {
   "cell_type": "code",
   "execution_count": null,
   "id": "ca512211",
   "metadata": {},
   "outputs": [],
   "source": []
  }
 ],
 "metadata": {
  "kernelspec": {
   "display_name": "Python 3",
   "language": "python",
   "name": "python3"
  },
  "language_info": {
   "codemirror_mode": {
    "name": "ipython",
    "version": 3
   },
   "file_extension": ".py",
   "mimetype": "text/x-python",
   "name": "python",
   "nbconvert_exporter": "python",
   "pygments_lexer": "ipython3",
   "version": "3.7.6"
  }
 },
 "nbformat": 4,
 "nbformat_minor": 5
}
